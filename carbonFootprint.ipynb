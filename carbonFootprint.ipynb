{
 "cells": [
  {
   "cell_type": "markdown",
   "id": "6c6348ed",
   "metadata": {},
   "source": [
    "# Overview on worldwide carbon emissions and electricity sources"
   ]
  },
  {
   "cell_type": "markdown",
   "id": "6ce60923",
   "metadata": {},
   "source": [
    "#### Analysis on worldwide CO2 emissions, the impact different electricity sources have on the carbon footprint of a country and how they can help smooth sudden energy prices movements."
   ]
  },
  {
   "cell_type": "markdown",
   "id": "27c00346",
   "metadata": {},
   "source": [
    "### 1.0 Purpose of this analysis\n",
    "This analysis can be divided into two parts.\n",
    "In the first part, the goal is to assess the status of ___worldwide CO2 emissions___ as of 2023, as well as the impact of ___various electricity production sources___ on a country's carbon footprint and how these trends evolved over time. Particular focus has been dedicated to CO2 emissions from combustion processes (in mln tons) rather than countries' total emissions, as the former are more relevant to electricity production processes.    \n",
    "In the last sections, the information from the first part is utilized to assess how the energy mix of a country can help smooth the impact of sudden movements in energy's market prices."
   ]
  },
  {
   "cell_type": "markdown",
   "id": "85d672b5",
   "metadata": {},
   "source": [
    "### 2.0 Overview of the data  \n",
    "The dataset presented in this analysis has been sourced from the Energy Institute website, and includes information on carbon emissions and electricity production from various sources, mainly fossil fuels, nuclear energy, renewables and other sources.    \n",
    "The data is a panel data, providing insight on countries from all over the globe and across various years. It has been however chosen to focus on the year 2023, the latest year available, to provide a quick overview of the most recent information on the matter.   \n",
    "An overview of the most relevant attributes is provided below, after selecting the features to be included in the analysis.\n"
   ]
  },
  {
   "cell_type": "code",
   "execution_count": 1,
   "id": "ccc2067d",
   "metadata": {},
   "outputs": [
    {
     "name": "stdout",
     "output_type": "stream",
     "text": [
      "c:\\Users\\enric\\Documents\\carbon-footprint\\.venv\\Scripts\\python.exe\n"
     ]
    }
   ],
   "source": [
    "import sys\n",
    "print(sys.executable)"
   ]
  },
  {
   "cell_type": "code",
   "execution_count": 2,
   "id": "0800096c",
   "metadata": {},
   "outputs": [],
   "source": [
    "%load_ext autoreload\n",
    "%autoreload 2\n",
    "import pandas as pd\n",
    "import numpy as np\n",
    "import matplotlib.pyplot as pyplot\n",
    "import plotly.graph_objects as go\n",
    "import plotly.express as px\n",
    "import requests\n",
    "import os\n",
    "import warnings\n",
    "import seaborn as sns\n",
    "import polars\n",
    "from scipy.stats import pearsonr\n",
    "from scipy.stats import ks_2samp\n",
    "from sklearn.preprocessing import PowerTransformer\n",
    "from utils import *\n",
    "\n",
    "warnings.filterwarnings('ignore')"
   ]
  },
  {
   "cell_type": "code",
   "execution_count": 3,
   "id": "645157b6",
   "metadata": {},
   "outputs": [
    {
     "name": "stdout",
     "output_type": "stream",
     "text": [
      "                      Code                                           Variable                                       Units\n",
      "0     biodiesel_cons_kboed                             biodiesel consumption   thousand barrels of oil equivalent per day\n",
      "1        biodiesel_cons_pj                             biodiesel consumption                                   Petajoules\n",
      "2     biodiesel_prod_kboed                               biodiesel production  thousand barrels of oil equivalent per day\n",
      "3        biodiesel_prod_pj                               biodiesel production                                  Petajoules\n",
      "4         biofuels_cons_ej                               biofuels consumption                                   Exajoules\n",
      "5        biofuels_cons_kbd                               biofuels consumption                    thousand barrels per day\n",
      "6      biofuels_cons_kboed                               biofuels consumption  thousand barrels of oil equivalent per day\n",
      "7         biofuels_cons_pj                               biofuels consumption                                  Petajoules\n",
      "8        biofuels_prod_kbd                                biofuels production                    thousand barrels per day\n",
      "9      biofuels_prod_kboed                                biofuels production  thousand barrels of oil equivalent per day\n",
      "10        biofuels_prod_pj                                biofuels production                                  Petajoules\n",
      "11               biogeo_ej                      Geothermal, biomass and other                                   Exajoules\n",
      "12              biogeo_twh                      Geothermal, biomass and other                               Terawatt-hour\n",
      "13          biogeo_twh_net                      Geothermal, biomass and other                           Terawatt-hour net\n",
      "14       co2_combust_mtco2                      CO2 emissions from combustion                      Million tonnes of CO2 \n",
      "15          co2_combust_pc                      CO2 emissions from combustion                   CO2 combustion per capita\n",
      "16      co2_combust_per_ej                                   Carbon intensity                           CO2 per exajoules\n",
      "17               co2_mtco2                               Total CO2 emissions                       Million tonnes of CO2 \n",
      "18             coalcons_ej                                  Coal consumption                                    Exajoules\n",
      "19             coalprod_ej                                    Coal production                                   Exajoules\n",
      "20             coalprod_mt                                    Coal production                              Million tonnes\n",
      "21               cobalt_kt                                  Cobalt production                                 Kilo tonnes\n",
      "22            cobaltres_kt                                    Cobalt reserves                                 Kilo tonnes\n",
      "23  diesel_gasoil_cons_kbd                          diesel gasoil consumption                    thousand barrels per day\n",
      "24               elect_twh                                        Electricity                               Terawatt-hour\n",
      "25        electbyfuel_coal                   Electricity generation from coal                               Terawatt-hour\n",
      "26         electbyfuel_gas                    Electricity generation from gas                               Terawatt-hour\n",
      "27       electbyfuel_hydro                  Electricity generation from hydro                               Terawatt-hour\n",
      "28     electbyfuel_nuclear                Electricity generation from nuclear                               Terawatt-hour\n",
      "29         electbyfuel_oil                    Electricity generation from oil                               Terawatt-hour\n",
      "30       electbyfuel_other                  Electricity generation from other                               Terawatt-hour\n",
      "31   electbyfuel_ren_power             Electricity generation from renewables                               Terawatt-hour\n",
      "32       electbyfuel_total                       Total electricity generation                               Terawatt-hour\n",
      "33      ethanol_cons_kboed                                Ethanol consumption  thousand barrels of oil equivalent per day\n",
      "34         ethanol_cons_pj                                 Ethanol Production                                  Petajoules\n",
      "35      ethanol_prod_kboed                                 Ethanol Production  thousand barrels of oil equivalent per day\n",
      "36         ethanol_prod_pj                                 Ethanol Production                                  Petajoules\n",
      "37       fuel_oil_cons_kbd                               Fuel oil consumption                    thousand barrels per day\n",
      "38            gascons_bcfd                                    Gas Consumption                  Billion cubic feet per day\n",
      "39             gascons_bcm                                    Gas Consumption                        Billion cubic meters\n",
      "40              gascons_ej                                    Gas Consumption                                   Exajoules\n",
      "41           gasflared_bcm                                         Gas flared                        Billion cubic meters\n",
      "42         gasflared_mtco2                                         Gas flared                      Million tonnes of CO2 \n",
      "43       gasoline_cons_kbd                               Gasoline consumption                    thousand barrels per day\n",
      "44            gasprod_bcfd                                     Gas Production                  Billion cubic feet per day\n",
      "45             gasprod_bcm                                     Gas Production                        Billion cubic meters\n",
      "46              gasprod_ej                                     Gas Production                                   Exajoules\n",
      "47             graphite_kt                                Graphite production                                 Kilo tonnes\n",
      "48          graphiteres_kt                                  Graphite reserves                                 Kilo tonnes\n",
      "49                hydro_ej                                  Hydro consumption                                   Exajoules\n",
      "50               hydro_twh                                   Hydro generation                               Terawatt-hour\n",
      "51           hydro_twh_net                                   Hydro generation                           Terawatt-hour net\n",
      "52       kerosene_cons_kbd                               Kerosene Consumption                    thousand barrels per day\n",
      "53     light_dist_cons_kbd                      Light distillates consumption                    thousand barrels per day\n",
      "54             liqcons_kbd                                Liquids consumption                    thousand barrels per day\n",
      "55              lithium_kt                                 Lithium production                                 Kilo tonnes\n",
      "56           lithiumres_kt                                   Lithium reserves                                 Kilo tonnes\n",
      "57            lpg_cons_kbd                                    LPG consumption                    thousand barrels per day\n",
      "58   methane_process_mtco2        Methane Emissions from industrial processes                      Million tonnes of CO2 \n",
      "59    middle_dist_cons_kbd                     Middle distillates consumption                    thousand barrels per day\n",
      "60        naphtha_cons_kbd                                Naphtha consumption                    thousand barrels per day\n",
      "61              nuclear_ej                                Nuclear consumption                                   Exajoules\n",
      "62             nuclear_twh                                 Nuclear generation                               Terawatt-hour\n",
      "63         nuclear_twh_net                                 Nuclear generation                           Terawatt-hour net\n",
      "64              oilcons_ej                                    Oil consumption                                   Exajoules\n",
      "65             oilcons_kbd                                    Oil consumption                    thousand barrels per day\n",
      "66              oilcons_mt                                    Oil consumption                              Million tonnes\n",
      "67   oilprod_crudecond_kbd                                     Oil production                    thousand barrels per day\n",
      "68             oilprod_kbd                                     Oil production                    thousand barrels per day\n",
      "69              oilprod_mt                                     Oil production                              Million tonnes\n",
      "70         oilprod_ngl_kbd                                     Oil production                    thousand barrels per day\n",
      "71      other_oil_cons_kbd                              Other oil consumption                    thousand barrels per day\n",
      "72                     pop                                         Population                                         NaN\n",
      "73      primary_eintensity  Energy intensity (Primary energy consumption/GDP)                                         NaN\n",
      "74              primary_ej                         Primary energy consumption                                   Exajoules\n",
      "75           primary_ej_pc              Primary energy consumption per capita                        Exajoules per capita\n",
      "76           rareearths_kt                             Rare earths production                                 Kilo tonnes\n",
      "77        rareearthsres_kt                               Rare earths reserves                                 Kilo tonnes\n",
      "78              refcap_kbd                                  Refining capacity                    thousand barrels per day\n",
      "79          refcaputil_pct                         Refining capacity utilized                                  Percentage\n",
      "80             refthru_kbd                                Refinery throughput                    thousand barrels per day\n",
      "81            ren_power_ej                        Renewable power consumption                                   Exajoules\n",
      "82           ren_power_twh                         Renewable power generation                               Terawatt-hour\n",
      "83       ren_power_twh_net                         Renewable power generation                           Terawatt-hour net\n",
      "84           renewables_ej                        Renewable power consumption                                   Exajoules\n",
      "85                solar_ej                                  Solar consumption                                   Exajoules\n",
      "86               solar_twh                                   Solar generation                               Terawatt-hour\n",
      "87           solar_twh_net                                   Solar generation                           Terawatt-hour net\n",
      "88                 wind_ej                                   Wind consumption                                   Exajoules\n",
      "89                wind_twh                                    Wind generation                               Terawatt-hour\n",
      "90            wind_twh_net                                    Wind generation                           Terawatt-hour net\n"
     ]
    }
   ],
   "source": [
    "# Download and save data\n",
    "panelUrl = \"https://www.energyinst.org/__data/assets/excel_doc/0007/1055752/merged_panel.xlsx\"\n",
    "panelFile = \"Data/Panel Data.xlsx\"\n",
    "\n",
    "glossaryUrl = \"https://www.energyinst.org/__data/assets/excel_doc/0020/1540505/Consolidated-Dataset-Narrow-Format-Glossary.xlsx\"\n",
    "glossaryFile = \"Data/Glossary.xlsx\"\n",
    "\n",
    "panelDataDowloader = DownloadSave(panelUrl, panelFile)\n",
    "panelData = panelDataDowloader.downloadSave()\n",
    "\n",
    "glossaryDownloader = DownloadSave(glossaryUrl, glossaryFile)\n",
    "glossaryData = glossaryDownloader.downloadSave()\n",
    "\n",
    "panelData.head()\n",
    "print(glossaryData.to_string(line_width=None))"
   ]
  },
  {
   "cell_type": "markdown",
   "id": "b76a3fe7",
   "metadata": {},
   "source": [
    "### 3.0 Data Cleaning and Feature Engineering"
   ]
  },
  {
   "cell_type": "markdown",
   "id": "5acfcb5f",
   "metadata": {},
   "source": [
    "#### 3.1 Data Cleaning"
   ]
  },
  {
   "cell_type": "markdown",
   "id": "3cc7fed5",
   "metadata": {},
   "source": [
    "Most of the data cleaning process involves cleaning the 'Country' column from values that represented aggregate information for other countries and, thus, provided no additional information for our purposes. Therefore, these rows have been removed from the dataset.  \n",
    "Finally, a low number of missing values has been observed regarding carbon emissions and primary energy consumption columns. All missing values, including those in electricity production features, are preserved here, as possibly indicators of a country's specific energy policy or transition towards greener sources. In other words, missing information on coal electricity production for a specific country does not necessarily imply a defect in the data, but can be interpreted as the country transitioning towards other energy sources."
   ]
  },
  {
   "cell_type": "code",
   "execution_count": 4,
   "id": "412a5eff",
   "metadata": {},
   "outputs": [
    {
     "name": "stdout",
     "output_type": "stream",
     "text": [
      "                     Code                                           Variable                      Units\n",
      "0       co2_combust_mtco2                      CO2 emissions from combustion     Million tonnes of CO2 \n",
      "1          co2_combust_pc                      CO2 emissions from combustion  CO2 combustion per capita\n",
      "2      co2_combust_per_ej                                   Carbon intensity          CO2 per exajoules\n",
      "3               co2_mtco2                               Total CO2 emissions      Million tonnes of CO2 \n",
      "4               elect_twh                                        Electricity              Terawatt-hour\n",
      "5        electbyfuel_coal                   Electricity generation from coal              Terawatt-hour\n",
      "6         electbyfuel_gas                    Electricity generation from gas              Terawatt-hour\n",
      "7       electbyfuel_hydro                  Electricity generation from hydro              Terawatt-hour\n",
      "8     electbyfuel_nuclear                Electricity generation from nuclear              Terawatt-hour\n",
      "9         electbyfuel_oil                    Electricity generation from oil              Terawatt-hour\n",
      "10      electbyfuel_other                  Electricity generation from other              Terawatt-hour\n",
      "11  electbyfuel_ren_power             Electricity generation from renewables              Terawatt-hour\n",
      "12      electbyfuel_total                       Total electricity generation              Terawatt-hour\n",
      "13                    pop                                         Population                        NaN\n",
      "14     primary_eintensity  Energy intensity (Primary energy consumption/GDP)                        NaN\n",
      "15             primary_ej                         Primary energy consumption                  Exajoules\n",
      "16          primary_ej_pc              Primary energy consumption per capita       Exajoules per capita\n",
      "17                Country        Name of each country, for 107 total nations                          -\n",
      "18                 Region            Region to which each country belongs to                          -\n",
      "19                   OPEC               1 if is an OPEC country, 0 otherwise                          -\n",
      "20                     EU                 1 if is an EU country, 0 otherwise                          -\n",
      "21                   OECD               1 if is an OECD country, 0 otherwise                          -\n",
      "22                    CIS                1 if is a CIS* country, 0 otherwise                          -\n",
      "*Note - CIS: Commonwealth of Independent States\n"
     ]
    }
   ],
   "source": [
    "# keep only relevant columns\n",
    "selectedColumns = ['Country', 'pop', 'Year', 'Region', 'OPEC', 'EU', 'OECD', 'CIS',\n",
    "                   'co2_combust_mtco2', 'co2_combust_pc', 'co2_combust_per_ej', 'co2_mtco2', 'elect_twh']\n",
    "electByFuel = panelData.filter(like = \"electbyfuel\")\n",
    "primaryEnergyCons = panelData.filter(like = \"primary_\")\n",
    "panelDataFiltered = pd.concat([panelData[selectedColumns], electByFuel, primaryEnergyCons], axis = 1)\n",
    "\n",
    "glossaryData = glossaryData[glossaryData['Code'].isin(panelDataFiltered.columns.tolist())]\n",
    "newRows = [\n",
    "    {'Code':'Country', 'Variable':'Name of each country, for 107 total nations', 'Units':'-'},\n",
    "    {'Code':'Region', 'Variable':'Region to which each country belongs to', 'Units':'-'},\n",
    "    {'Code':'OPEC', 'Variable':'1 if is an OPEC country, 0 otherwise', 'Units':'-'},\n",
    "    {'Code':'EU', 'Variable':'1 if is an EU country, 0 otherwise', 'Units':'-'},\n",
    "    {'Code':'OECD', 'Variable':'1 if is an OECD country, 0 otherwise', 'Units':'-'},\n",
    "    {'Code':'CIS', 'Variable':'1 if is a CIS* country, 0 otherwise', 'Units':'-'}\n",
    "]\n",
    "newRows = pd.DataFrame(newRows)\n",
    "glossaryData = pd.concat([glossaryData, newRows], ignore_index = True)\n",
    "# print the list of features used in the analysis\n",
    "glossaryData.style.set_table_attributes('style=\"width:100%; display:block; overflow:auto;\"').set_table_styles([\n",
    "    {'selector': 'thead th', 'props': [('text-align', 'center')]},  # Center align headers\n",
    "    {'selector': 'tbody td', 'props': [('text-align', 'center')]},   # Center align data\n",
    "])\n",
    "\n",
    "print(glossaryData.to_string(line_width=None))\n",
    "print(\"*Note - CIS: Commonwealth of Independent States\")\n",
    "\n",
    "panelDataFiltered = panelDataFiltered[~panelDataFiltered['Country'].str.contains('^Total', na = False)]\n",
    "panelDataFiltered = panelDataFiltered[~panelDataFiltered['Country'].str.contains('^Other', na = False)]\n",
    "panelDataFiltered = panelDataFiltered[panelDataFiltered['Country'] != 'Rest of World']\n",
    "\n",
    "# Create Column w/ CO2 emissions per capita\n",
    "panelDataFiltered['co2_mtco2_pc'] = panelDataFiltered['co2_mtco2']/panelDataFiltered['pop']\n",
    "\n",
    "# Extract data as of 2023\n",
    "energyData = panelDataFiltered.copy()\n",
    "energyData = energyData[energyData.co2_mtco2.notnull()]\n",
    "energyData = energyData[energyData['Year'] == 2023]\n",
    "\n",
    "# Create column for international organization\n",
    "condList = [energyData['OPEC'] == 1, energyData['EU'] == 1, \n",
    "            energyData['CIS'] == 1, energyData['OECD'] == 1]\n",
    "choiceList = ['OPEC', 'EU', 'CIS', 'OECD']\n",
    "energyData['InternationalOrganization'] = np.select(condList, choiceList, default = 'None')"
   ]
  },
  {
   "cell_type": "code",
   "execution_count": 5,
   "id": "d954e522",
   "metadata": {},
   "outputs": [
    {
     "name": "stdout",
     "output_type": "stream",
     "text": [
      "['pop', 'OPEC', 'EU', 'OECD', 'CIS', 'co2_combust_mtco2', 'co2_combust_pc', 'co2_combust_per_ej', 'co2_mtco2', 'elect_twh', 'electbyfuel_coal', 'electbyfuel_gas', 'electbyfuel_hydro', 'electbyfuel_nuclear', 'electbyfuel_oil', 'electbyfuel_other', 'electbyfuel_ren_power', 'electbyfuel_total', 'primary_eintensity', 'primary_ej', 'primary_ej_pc', 'co2_mtco2_pc']\n"
     ]
    }
   ],
   "source": [
    "#print all numeric columns\n",
    "print(energyData.select_dtypes(include='float64').columns.tolist())"
   ]
  },
  {
   "cell_type": "code",
   "execution_count": 6,
   "id": "c9c44f27",
   "metadata": {},
   "outputs": [
    {
     "name": "stdout",
     "output_type": "stream",
     "text": [
      "co2_combust_mtco2        6.322900\n",
      "co2_mtco2                6.298515\n",
      "elect_twh                6.214241\n",
      "primary_ej               5.788529\n",
      "pop                      5.134280\n",
      "electbyfuel_coal         4.996785\n",
      "electbyfuel_oil          4.698540\n",
      "electbyfuel_gas          4.642247\n",
      "electbyfuel_ren_power    4.267929\n",
      "electbyfuel_total        4.193242\n",
      "electbyfuel_hydro        3.943784\n",
      "co2_combust_pc           3.487231\n",
      "co2_mtco2_pc             3.319303\n",
      "electbyfuel_other        3.275147\n",
      "CIS                      3.025012\n",
      "primary_eintensity       2.773503\n",
      "OPEC                     2.725420\n",
      "electbyfuel_nuclear      2.701736\n",
      "primary_ej_pc            2.650319\n",
      "EU                       0.892103\n",
      "OECD                     0.235148\n",
      "co2_combust_per_ej      -0.319341\n",
      "dtype: float64\n"
     ]
    }
   ],
   "source": [
    "# SKEWNESS\n",
    "\n",
    "# Skewness of data\n",
    "numCols = energyData.select_dtypes(include = ['float64']).columns.tolist()\n",
    "print(energyData[numCols].skew().sort_values(ascending = False))\n",
    "\n",
    "transformer = TreatSkewedVariables(energyData, 0.75)\n",
    "energyDataTransformed = transformer.YeoJohnson()\n",
    "\n",
    "# While it is important to normalize the distributions in order to conduct meaningful statistical tests,\n",
    "# It is also important to preserve outliers, as they indicate which are the most relevant global polluters\n",
    "# One action that can be done is to look at the percentage contribution of each country to the global CO2 emissions"
   ]
  },
  {
   "cell_type": "code",
   "execution_count": 7,
   "id": "6844b353",
   "metadata": {},
   "outputs": [
    {
     "name": "stdout",
     "output_type": "stream",
     "text": [
      "                     Code                                Variable          Units\n",
      "5        electbyfuel_coal        Electricity generation from coal  Terawatt-hour\n",
      "6         electbyfuel_gas         Electricity generation from gas  Terawatt-hour\n",
      "7       electbyfuel_hydro       Electricity generation from hydro  Terawatt-hour\n",
      "8     electbyfuel_nuclear     Electricity generation from nuclear  Terawatt-hour\n",
      "9         electbyfuel_oil         Electricity generation from oil  Terawatt-hour\n",
      "10      electbyfuel_other       Electricity generation from other  Terawatt-hour\n",
      "11  electbyfuel_ren_power  Electricity generation from renewables  Terawatt-hour\n",
      "12      electbyfuel_total            Total electricity generation  Terawatt-hour\n",
      "<bound method IndexOpsMixin.tolist of Index(['electbyfuel_coal', 'electbyfuel_gas', 'electbyfuel_hydro',\n",
      "       'electbyfuel_nuclear', 'electbyfuel_oil', 'electbyfuel_other',\n",
      "       'electbyfuel_ren_power', 'electbyfuel_total', 'electbyfuel_coal_Unskew',\n",
      "       'electbyfuel_gas_Unskew', 'electbyfuel_hydro_Unskew',\n",
      "       'electbyfuel_nuclear_Unskew', 'electbyfuel_oil_Unskew',\n",
      "       'electbyfuel_other_Unskew', 'electbyfuel_ren_power_Unskew',\n",
      "       'electbyfuel_total_Unskew'],\n",
      "      dtype='object')>\n"
     ]
    }
   ],
   "source": [
    "# print(energyData.select_dtypes(include = 'float64').columns.tolist)\n",
    "print(glossaryData[glossaryData['Code'].isin(energyData.filter(like = 'electby').columns)].to_string(line_width=None))\n",
    "print(energyData.filter(like = 'electby').columns.tolist)\n",
    "globalCO2Emissions = energyData['co2_combust_mtco2'].sum()\n",
    "energyData['co2_perc_contr_total'] = energyData['co2_combust_mtco2']/globalCO2Emissions\n",
    "\n",
    "energyData['elect_fossil'] = energyData[['electbyfuel_coal','electbyfuel_gas','electbyfuel_oil']].sum(axis=1, numeric_only=True)\n",
    "energyData['elect_renew'] = energyData['electbyfuel_ren_power']\n",
    "energyData['elect_nuclear'] = energyData['electbyfuel_nuclear']\n",
    "energyData['elect_sustain'] = energyData[['electbyfuel_ren_power','electbyfuel_nuclear']].sum(axis=1, numeric_only=True)\n",
    "energyData['elect_other'] = energyData['electbyfuel_other']\n",
    "\n",
    "energyData['elect_fossil_Unskew'] = energyData[['electbyfuel_coal_Unskew', 'electbyfuel_gas_Unskew', 'electbyfuel_oil_Unskew']].sum(axis = 1, numeric_only = True)\n",
    "energyData['elect_nuclear_Unskew'] = energyData['electbyfuel_nuclear_Unskew']\n",
    "energyData['elect_renew_Unskew'] = energyData['electbyfuel_ren_power_Unskew']\n",
    "energyData['elect_other_Unskew'] = energyData['electbyfuel_other_Unskew']\n",
    "energyData['elect_sustain_Unskew'] = energyData[['elect_nuclear_Unskew', 'elect_renew_Unskew']].sum(axis = 1, numeric_only = True)\n",
    "\n",
    "electSources = ['elect_fossil', 'elect_renew', 'elect_nuclear', 'elect_sustain', 'elect_other']\n",
    "\n",
    "for col in electSources:\n",
    "    newCol = col + '_perc'\n",
    "    energyData[newCol] = energyData[col].div(energyData['electbyfuel_total'])\n",
    "    energyData[newCol + '_Unskew'] = energyData[col + '_Unskew'].div(energyData['electbyfuel_total_Unskew'])\n",
    "\n",
    "# What are the primary sources of energy of the world?\n",
    "energyData['co2_perc_Unskew'] = energyData['co2_combust_mtco2_Unskew']/energyData['co2_combust_mtco2_Unskew'].sum()\n"
   ]
  },
  {
   "cell_type": "code",
   "execution_count": 8,
   "id": "44e654e4",
   "metadata": {},
   "outputs": [
    {
     "name": "stdout",
     "output_type": "stream",
     "text": [
      "                 Country     co2_mtco2  co2_mtco2_Unskew  co2_mtco2_Unskew_z_score\n",
      "3362     North Macedonia      8.223451         -2.282774                 -2.282774\n",
      "5042            Slovenia     10.902435         -2.050917                 -2.050917\n",
      "2701           Lithuania     12.337375         -1.949044                 -1.949044\n",
      "1571             Estonia     15.132630         -1.780958                 -1.780958\n",
      "1135             Croatia     17.538715         -1.659874                 -1.659874\n",
      "6675   Trinidad & Tobago     20.426463         -1.535308                 -1.535308\n",
      "4814  Russian Federation   2176.075218          1.727223                  1.727223\n",
      "2048               India   3121.547344          1.931543                  1.931543\n",
      "6895                  US   5130.147811          2.202767                  2.202767\n",
      "983                China  12603.514979          2.665112                  2.665112\n"
     ]
    },
    {
     "data": {
      "application/vnd.plotly.v1+json": {
       "config": {
        "plotlyServerURL": "https://plot.ly"
       },
       "data": [
        {
         "type": "bar",
         "x": [
          "North Macedonia",
          "Slovenia",
          "Lithuania",
          "Estonia",
          "Croatia",
          "Trinidad & Tobago",
          "Slovakia",
          "Denmark",
          "New Zealand",
          "Norway",
          "Ireland",
          "Sweden",
          "Bulgaria",
          "Hungary",
          "Azerbaijan",
          "Belarus",
          "Austria",
          "Ecuador",
          "Greece",
          "China Hong Kong SAR",
          "Israel",
          "Peru",
          "Romania",
          "Morocco",
          "Czech Republic",
          "Chile",
          "Belgium",
          "Oman",
          "Bangladesh",
          "Kuwait",
          "Ukraine",
          "Colombia",
          "Uzbekistan",
          "Netherlands",
          "Philippines",
          "Qatar",
          "Pakistan",
          "Turkmenistan",
          "Venezuela",
          "Argentina",
          "Algeria",
          "Spain",
          "France",
          "Taiwan",
          "Iraq",
          "Egypt",
          "Poland",
          "Thailand",
          "Kazakhstan",
          "Italy",
          "Malaysia",
          "United Kingdom",
          "United Arab Emirates",
          "Vietnam",
          "Australia",
          "Turkiye",
          "South Africa",
          "Brazil",
          "Mexico",
          "Germany",
          "South Korea",
          "Canada",
          "Saudi Arabia",
          "Indonesia",
          "Iran",
          "Japan",
          "Russian Federation",
          "India",
          "US",
          "China"
         ],
         "y": {
          "bdata": "AABALWhyIEAAQPztC84lQAAApmK8rChAAAAAIehDLkAAgGA56YkxQAAAgLIsbTRAAABG2yUgPUAAAFL61B4+QAAA1QfTakBAAADOiGu7QUAAYCdBTy9CQAAAe6gFk0JAAP7BtZnMQkAAwNj3WpVEQABw4P1GJEtAAABT2vmXS0AA6DAIrfxLQAAAYqMFH0xAAID1HEagT0AAAFall51QQAAAr3kEDFFAAJj67ZZMUUAAoFm8W2VRQAAABdJfmVJAAADL6WTwVUAAoMtIT/lVQABA9rLXf1pAAADG8Zd/W0AAAOgRhSZfQAAAQKBhcF9AAAAMeNRrYEAAAEkDz0ZhQAAwgxAcHmNAAICmif+OY0AAAFjH7X9kQAAAyuW4h2RAgLWKtTa/a0AAAGCOgMZrQAAAVH0rH2xAAEDejEKsbEAAAIBziRFvQACU7dcn3W9AAADczihvcEAAwJgQHOxwQAAAQFwCZHFAAACIwml1cUAAQEHx6rByQIBLm5+F4XJAACBXCKhKc0AAjYbNqIpzQAAAVERgHnRAAJDxHrUodUAAAACNrEx1QACAUjdNRndAABDLgfKGe0AAQCnuGpJ8QADSnb2f4X1AAGCsI/hngECArXiH632BQACO98Qta4JAAIDcM1uRgkAAwCPz9bqCQAAANE6Jr4ZAADBKrKrrikAAUB7znkeNQGAVZos1OpBAAAAAgyYAoUAAAHQ9GGOoQACw9NYlCrRAAADR6sGdyEA=",
          "dtype": "f8"
         }
        }
       ],
       "layout": {
        "height": 600,
        "template": {
         "data": {
          "bar": [
           {
            "error_x": {
             "color": "#2a3f5f"
            },
            "error_y": {
             "color": "#2a3f5f"
            },
            "marker": {
             "line": {
              "color": "white",
              "width": 0.5
             },
             "pattern": {
              "fillmode": "overlay",
              "size": 10,
              "solidity": 0.2
             }
            },
            "type": "bar"
           }
          ],
          "barpolar": [
           {
            "marker": {
             "line": {
              "color": "white",
              "width": 0.5
             },
             "pattern": {
              "fillmode": "overlay",
              "size": 10,
              "solidity": 0.2
             }
            },
            "type": "barpolar"
           }
          ],
          "carpet": [
           {
            "aaxis": {
             "endlinecolor": "#2a3f5f",
             "gridcolor": "#C8D4E3",
             "linecolor": "#C8D4E3",
             "minorgridcolor": "#C8D4E3",
             "startlinecolor": "#2a3f5f"
            },
            "baxis": {
             "endlinecolor": "#2a3f5f",
             "gridcolor": "#C8D4E3",
             "linecolor": "#C8D4E3",
             "minorgridcolor": "#C8D4E3",
             "startlinecolor": "#2a3f5f"
            },
            "type": "carpet"
           }
          ],
          "choropleth": [
           {
            "colorbar": {
             "outlinewidth": 0,
             "ticks": ""
            },
            "type": "choropleth"
           }
          ],
          "contour": [
           {
            "colorbar": {
             "outlinewidth": 0,
             "ticks": ""
            },
            "colorscale": [
             [
              0,
              "#0d0887"
             ],
             [
              0.1111111111111111,
              "#46039f"
             ],
             [
              0.2222222222222222,
              "#7201a8"
             ],
             [
              0.3333333333333333,
              "#9c179e"
             ],
             [
              0.4444444444444444,
              "#bd3786"
             ],
             [
              0.5555555555555556,
              "#d8576b"
             ],
             [
              0.6666666666666666,
              "#ed7953"
             ],
             [
              0.7777777777777778,
              "#fb9f3a"
             ],
             [
              0.8888888888888888,
              "#fdca26"
             ],
             [
              1,
              "#f0f921"
             ]
            ],
            "type": "contour"
           }
          ],
          "contourcarpet": [
           {
            "colorbar": {
             "outlinewidth": 0,
             "ticks": ""
            },
            "type": "contourcarpet"
           }
          ],
          "heatmap": [
           {
            "colorbar": {
             "outlinewidth": 0,
             "ticks": ""
            },
            "colorscale": [
             [
              0,
              "#0d0887"
             ],
             [
              0.1111111111111111,
              "#46039f"
             ],
             [
              0.2222222222222222,
              "#7201a8"
             ],
             [
              0.3333333333333333,
              "#9c179e"
             ],
             [
              0.4444444444444444,
              "#bd3786"
             ],
             [
              0.5555555555555556,
              "#d8576b"
             ],
             [
              0.6666666666666666,
              "#ed7953"
             ],
             [
              0.7777777777777778,
              "#fb9f3a"
             ],
             [
              0.8888888888888888,
              "#fdca26"
             ],
             [
              1,
              "#f0f921"
             ]
            ],
            "type": "heatmap"
           }
          ],
          "histogram": [
           {
            "marker": {
             "pattern": {
              "fillmode": "overlay",
              "size": 10,
              "solidity": 0.2
             }
            },
            "type": "histogram"
           }
          ],
          "histogram2d": [
           {
            "colorbar": {
             "outlinewidth": 0,
             "ticks": ""
            },
            "colorscale": [
             [
              0,
              "#0d0887"
             ],
             [
              0.1111111111111111,
              "#46039f"
             ],
             [
              0.2222222222222222,
              "#7201a8"
             ],
             [
              0.3333333333333333,
              "#9c179e"
             ],
             [
              0.4444444444444444,
              "#bd3786"
             ],
             [
              0.5555555555555556,
              "#d8576b"
             ],
             [
              0.6666666666666666,
              "#ed7953"
             ],
             [
              0.7777777777777778,
              "#fb9f3a"
             ],
             [
              0.8888888888888888,
              "#fdca26"
             ],
             [
              1,
              "#f0f921"
             ]
            ],
            "type": "histogram2d"
           }
          ],
          "histogram2dcontour": [
           {
            "colorbar": {
             "outlinewidth": 0,
             "ticks": ""
            },
            "colorscale": [
             [
              0,
              "#0d0887"
             ],
             [
              0.1111111111111111,
              "#46039f"
             ],
             [
              0.2222222222222222,
              "#7201a8"
             ],
             [
              0.3333333333333333,
              "#9c179e"
             ],
             [
              0.4444444444444444,
              "#bd3786"
             ],
             [
              0.5555555555555556,
              "#d8576b"
             ],
             [
              0.6666666666666666,
              "#ed7953"
             ],
             [
              0.7777777777777778,
              "#fb9f3a"
             ],
             [
              0.8888888888888888,
              "#fdca26"
             ],
             [
              1,
              "#f0f921"
             ]
            ],
            "type": "histogram2dcontour"
           }
          ],
          "mesh3d": [
           {
            "colorbar": {
             "outlinewidth": 0,
             "ticks": ""
            },
            "type": "mesh3d"
           }
          ],
          "parcoords": [
           {
            "line": {
             "colorbar": {
              "outlinewidth": 0,
              "ticks": ""
             }
            },
            "type": "parcoords"
           }
          ],
          "pie": [
           {
            "automargin": true,
            "type": "pie"
           }
          ],
          "scatter": [
           {
            "fillpattern": {
             "fillmode": "overlay",
             "size": 10,
             "solidity": 0.2
            },
            "type": "scatter"
           }
          ],
          "scatter3d": [
           {
            "line": {
             "colorbar": {
              "outlinewidth": 0,
              "ticks": ""
             }
            },
            "marker": {
             "colorbar": {
              "outlinewidth": 0,
              "ticks": ""
             }
            },
            "type": "scatter3d"
           }
          ],
          "scattercarpet": [
           {
            "marker": {
             "colorbar": {
              "outlinewidth": 0,
              "ticks": ""
             }
            },
            "type": "scattercarpet"
           }
          ],
          "scattergeo": [
           {
            "marker": {
             "colorbar": {
              "outlinewidth": 0,
              "ticks": ""
             }
            },
            "type": "scattergeo"
           }
          ],
          "scattergl": [
           {
            "marker": {
             "colorbar": {
              "outlinewidth": 0,
              "ticks": ""
             }
            },
            "type": "scattergl"
           }
          ],
          "scattermap": [
           {
            "marker": {
             "colorbar": {
              "outlinewidth": 0,
              "ticks": ""
             }
            },
            "type": "scattermap"
           }
          ],
          "scattermapbox": [
           {
            "marker": {
             "colorbar": {
              "outlinewidth": 0,
              "ticks": ""
             }
            },
            "type": "scattermapbox"
           }
          ],
          "scatterpolar": [
           {
            "marker": {
             "colorbar": {
              "outlinewidth": 0,
              "ticks": ""
             }
            },
            "type": "scatterpolar"
           }
          ],
          "scatterpolargl": [
           {
            "marker": {
             "colorbar": {
              "outlinewidth": 0,
              "ticks": ""
             }
            },
            "type": "scatterpolargl"
           }
          ],
          "scatterternary": [
           {
            "marker": {
             "colorbar": {
              "outlinewidth": 0,
              "ticks": ""
             }
            },
            "type": "scatterternary"
           }
          ],
          "surface": [
           {
            "colorbar": {
             "outlinewidth": 0,
             "ticks": ""
            },
            "colorscale": [
             [
              0,
              "#0d0887"
             ],
             [
              0.1111111111111111,
              "#46039f"
             ],
             [
              0.2222222222222222,
              "#7201a8"
             ],
             [
              0.3333333333333333,
              "#9c179e"
             ],
             [
              0.4444444444444444,
              "#bd3786"
             ],
             [
              0.5555555555555556,
              "#d8576b"
             ],
             [
              0.6666666666666666,
              "#ed7953"
             ],
             [
              0.7777777777777778,
              "#fb9f3a"
             ],
             [
              0.8888888888888888,
              "#fdca26"
             ],
             [
              1,
              "#f0f921"
             ]
            ],
            "type": "surface"
           }
          ],
          "table": [
           {
            "cells": {
             "fill": {
              "color": "#EBF0F8"
             },
             "line": {
              "color": "white"
             }
            },
            "header": {
             "fill": {
              "color": "#C8D4E3"
             },
             "line": {
              "color": "white"
             }
            },
            "type": "table"
           }
          ]
         },
         "layout": {
          "annotationdefaults": {
           "arrowcolor": "#2a3f5f",
           "arrowhead": 0,
           "arrowwidth": 1
          },
          "autotypenumbers": "strict",
          "coloraxis": {
           "colorbar": {
            "outlinewidth": 0,
            "ticks": ""
           }
          },
          "colorscale": {
           "diverging": [
            [
             0,
             "#8e0152"
            ],
            [
             0.1,
             "#c51b7d"
            ],
            [
             0.2,
             "#de77ae"
            ],
            [
             0.3,
             "#f1b6da"
            ],
            [
             0.4,
             "#fde0ef"
            ],
            [
             0.5,
             "#f7f7f7"
            ],
            [
             0.6,
             "#e6f5d0"
            ],
            [
             0.7,
             "#b8e186"
            ],
            [
             0.8,
             "#7fbc41"
            ],
            [
             0.9,
             "#4d9221"
            ],
            [
             1,
             "#276419"
            ]
           ],
           "sequential": [
            [
             0,
             "#0d0887"
            ],
            [
             0.1111111111111111,
             "#46039f"
            ],
            [
             0.2222222222222222,
             "#7201a8"
            ],
            [
             0.3333333333333333,
             "#9c179e"
            ],
            [
             0.4444444444444444,
             "#bd3786"
            ],
            [
             0.5555555555555556,
             "#d8576b"
            ],
            [
             0.6666666666666666,
             "#ed7953"
            ],
            [
             0.7777777777777778,
             "#fb9f3a"
            ],
            [
             0.8888888888888888,
             "#fdca26"
            ],
            [
             1,
             "#f0f921"
            ]
           ],
           "sequentialminus": [
            [
             0,
             "#0d0887"
            ],
            [
             0.1111111111111111,
             "#46039f"
            ],
            [
             0.2222222222222222,
             "#7201a8"
            ],
            [
             0.3333333333333333,
             "#9c179e"
            ],
            [
             0.4444444444444444,
             "#bd3786"
            ],
            [
             0.5555555555555556,
             "#d8576b"
            ],
            [
             0.6666666666666666,
             "#ed7953"
            ],
            [
             0.7777777777777778,
             "#fb9f3a"
            ],
            [
             0.8888888888888888,
             "#fdca26"
            ],
            [
             1,
             "#f0f921"
            ]
           ]
          },
          "colorway": [
           "#636efa",
           "#EF553B",
           "#00cc96",
           "#ab63fa",
           "#FFA15A",
           "#19d3f3",
           "#FF6692",
           "#B6E880",
           "#FF97FF",
           "#FECB52"
          ],
          "font": {
           "color": "#2a3f5f"
          },
          "geo": {
           "bgcolor": "white",
           "lakecolor": "white",
           "landcolor": "white",
           "showlakes": true,
           "showland": true,
           "subunitcolor": "#C8D4E3"
          },
          "hoverlabel": {
           "align": "left"
          },
          "hovermode": "closest",
          "mapbox": {
           "style": "light"
          },
          "paper_bgcolor": "white",
          "plot_bgcolor": "white",
          "polar": {
           "angularaxis": {
            "gridcolor": "#EBF0F8",
            "linecolor": "#EBF0F8",
            "ticks": ""
           },
           "bgcolor": "white",
           "radialaxis": {
            "gridcolor": "#EBF0F8",
            "linecolor": "#EBF0F8",
            "ticks": ""
           }
          },
          "scene": {
           "xaxis": {
            "backgroundcolor": "white",
            "gridcolor": "#DFE8F3",
            "gridwidth": 2,
            "linecolor": "#EBF0F8",
            "showbackground": true,
            "ticks": "",
            "zerolinecolor": "#EBF0F8"
           },
           "yaxis": {
            "backgroundcolor": "white",
            "gridcolor": "#DFE8F3",
            "gridwidth": 2,
            "linecolor": "#EBF0F8",
            "showbackground": true,
            "ticks": "",
            "zerolinecolor": "#EBF0F8"
           },
           "zaxis": {
            "backgroundcolor": "white",
            "gridcolor": "#DFE8F3",
            "gridwidth": 2,
            "linecolor": "#EBF0F8",
            "showbackground": true,
            "ticks": "",
            "zerolinecolor": "#EBF0F8"
           }
          },
          "shapedefaults": {
           "line": {
            "color": "#2a3f5f"
           }
          },
          "ternary": {
           "aaxis": {
            "gridcolor": "#DFE8F3",
            "linecolor": "#A2B1C6",
            "ticks": ""
           },
           "baxis": {
            "gridcolor": "#DFE8F3",
            "linecolor": "#A2B1C6",
            "ticks": ""
           },
           "bgcolor": "white",
           "caxis": {
            "gridcolor": "#DFE8F3",
            "linecolor": "#A2B1C6",
            "ticks": ""
           }
          },
          "title": {
           "x": 0.05
          },
          "xaxis": {
           "automargin": true,
           "gridcolor": "#EBF0F8",
           "linecolor": "#EBF0F8",
           "ticks": "",
           "title": {
            "standoff": 15
           },
           "zerolinecolor": "#EBF0F8",
           "zerolinewidth": 2
          },
          "yaxis": {
           "automargin": true,
           "gridcolor": "#EBF0F8",
           "linecolor": "#EBF0F8",
           "ticks": "",
           "title": {
            "standoff": 15
           },
           "zerolinecolor": "#EBF0F8",
           "zerolinewidth": 2
          }
         }
        },
        "title": {},
        "width": 800,
        "xaxis": {
         "title": {
          "text": "Country"
         }
        },
        "yaxis": {
         "title": {
          "text": "co2_mtco2"
         }
        }
       }
      }
     },
     "metadata": {},
     "output_type": "display_data"
    }
   ],
   "source": [
    "# OUTLIERS\n",
    "# Detect outliers with z-scores approach\n",
    "OutliersDetect = DetectOutliers(df=energyData)\n",
    "a = energyData['co2_mtco2_Unskew'].quantile(.95)\n",
    "OutliersDetect.z_score(column='co2_mtco2_Unskew', threshold=a)\n",
    "# 10 outliers detected - which countries?\n",
    "print(energyData[energyData['co2_mtco2_Unskew_outlier'] == 1][['Country','co2_mtco2','co2_mtco2_Unskew','co2_mtco2_Unskew_z_score']].sort_values('co2_mtco2').to_string(line_width=None))\n",
    "OutliersViz = DataVisualizer(df = energyData.sort_values('co2_mtco2'))\n",
    "OutliersViz.BarChart(xcol='Country', ycol='co2_mtco2')\n",
    "OutliersViz.show()"
   ]
  },
  {
   "cell_type": "code",
   "execution_count": 9,
   "id": "c72814ad",
   "metadata": {},
   "outputs": [
    {
     "name": "stdout",
     "output_type": "stream",
     "text": [
      "count    7.000000e+01\n",
      "mean    -9.516197e-18\n",
      "std      1.007220e+00\n",
      "min     -2.688981e+00\n",
      "25%     -5.419065e-01\n",
      "50%     -8.961740e-02\n",
      "75%      5.100759e-01\n",
      "max      2.544449e+00\n",
      "Name: co2_mtco2_pc_Unskew_z_score, dtype: float64\n",
      "7\n",
      "Outliers detected:\n",
      "                   Country   co2_mtco2  co2_mtco2_pc\n",
      "450             Bangladesh  124.601872      0.720432\n",
      "4313              Pakistan  221.975428      0.923030\n",
      "4446           Philippines  163.997776      1.397660\n",
      "2564                Kuwait  125.755959     29.176985\n",
      "6836          Turkmenistan  222.203193     34.100642\n",
      "7023  United Arab Emirates  340.792127     35.809262\n",
      "4623                 Qatar  164.241321     60.463063\n"
     ]
    }
   ],
   "source": [
    "# Look at emissions per capita\n",
    "a = energyData['co2_mtco2_pc_Unskew'].quantile(.95)\n",
    "OutliersDetect.z_score(column='co2_mtco2_pc_Unskew', threshold=a)\n",
    "print(energyData['co2_mtco2_pc_Unskew_z_score'].describe())\n",
    "print(energyData['co2_mtco2_pc_Unskew_outlier'].sum())\n",
    "print('Outliers detected:')\n",
    "print(energyData[energyData['co2_mtco2_pc_Unskew_outlier'] == 1][['Country','co2_mtco2','co2_mtco2_pc']].sort_values('co2_mtco2_pc').to_string(line_width=None))"
   ]
  },
  {
   "cell_type": "markdown",
   "id": "91934994",
   "metadata": {},
   "source": [
    "### 4.0 Exploratory Data Analysis"
   ]
  },
  {
   "cell_type": "markdown",
   "id": "d3090f35",
   "metadata": {},
   "source": [
    "#### 4.1 Carbon emissions by region  \n",
    "In the plots below, the distribution of carbon emissions from combustion processes is presented, both in total million tons as well as per capita. Please note that China, India and United States have been excluded from the first two plots. This is because their values lie significantly above other countries that compressed remaining distributions, thus making the resulting plots less interpretable. Their distribution is presented in separate barplots.  \n",
    "The ___boxplots___ below evince the presence of outliers, despite the removal of three of the largest global emittors.  \n",
    "* For _total CO2 emissions_, outliers are mostly present for Asia Pacific, Europe and CIS.\n",
    "* For _per capita emissions_, outliers are mostly present for Asia Pacific, Europe and CIS.\n",
    "* Final observation that can be drawn from the boxplots below is the wider distribution of Middle East per capita emissions compared to its total emissions. This can be due to most of fossil fuels reserves being present in the Middle East, Russia and the US. This would imply higher emissions for Middle Eastern countries than other similar countries, without a significantly higher population."
   ]
  },
  {
   "cell_type": "code",
   "execution_count": 20,
   "id": "1443dc0a",
   "metadata": {},
   "outputs": [
    {
     "data": {
      "application/vnd.plotly.v1+json": {
       "config": {
        "plotlyServerURL": "https://plot.ly"
       },
       "data": [
        {
         "mode": "lines+markers",
         "type": "scatter",
         "x": {
          "bdata": "KCnm9szYWUAxoN873D5cQCGwcmiRlV5AaOTVpdJNYkDfFbMEYqFkQFw4Tgnl4GRAWGZrZ2B5Z0DjA2/Lqs9nQGaSs3yphGtAzczMzMwMbEC0qEbAiJVwQI5Z9iSwEXFAX7pJDAJHcUAduLG3YKBxQG6kG0otonFAUiegibDZcUCgMTjhw4B0QDm0yHa+6XVA1rIaksstdkDLoUW28+13QDjKoI/YbXpAvMVDcHsNgEAqcMPUoj2AQCqhBxtjT4NA9NouvWbJg0AOLbKd7y+GQFhAe+MSqo9Ab/Wc9P5okkCcMXWi+JieQJ7Iji71jbFAH4XrUTh4wkAAAAAAAAD4fwAAAAAAAPh/AAAAAAAA+H8AAAAAAAD4fwAAAAAAAPh/AAAAAAAA+H8AAAAAAAD4fwAAAAAAAPh/AAAAAAAA+H8AAAAAAAD4fwAAAAAAAPh/AAAAAAAA+H8AAAAAAAD4fwAAAAAAAPh/AAAAAAAA+H8AAAAAAAD4fwAAAAAAAPh/AAAAAAAA+H8AAAAAAAD4fwAAAAAAAPh/AAAAAAAA+H8AAAAAAAD4fwAAAAAAAPh/AAAAAAAA+H8AAAAAAAD4fwAAAAAAAPh/AAAAAAAA+H8AAAAAAAD4fwAAAAAAAPh/AAAAAAAA+H8AAAAAAAD4fwAAAAAAAPh/AAAAAAAA+H8AAAAAAAD4fwAAAAAAAPh/AAAAAAAA+H8AAAAAAAD4fwAAAAAAAPh/AAAAAAAA+H8=",
          "dtype": "f8"
         },
         "y": {
          "bdata": "AACYxLtUWkAAQK4k0qRrQACATn4/gmNAAEBe8mLdZ0AAAEClyvJxQABAg7mF5HBAAAAUlaHKcUCAS1MKU9twQAAAEGRnAm1AANLtXLGQekAAjTTYetRyQAAQC9XzgXdAAIASUYkWc0AAlM3DltluQADALLE9mHBAAJBx/990dEAAQF35n7F5QAAwinhk64VAAFvxAO6dfkAAUB47H12FQAAAtNBKY4NAAI56k97egUAAADR34NFvQAAAwMe82YFAAMCjWww8gEAAwFhayDB8QMAqSPBDpo9AAACAQ+86mUAAALSipfylQACw9F61H7JAAACZ+i/pxUAAAICrVxViQADo8GVX5kpAAHBgKPI1RUAAANBIcY1dQAAAc5NEP0pAAEA+oqXRWUAA/sG5A8BBQACgKxp5nlVAAADWcfV4UEAAAJLgQY1bQAAAEThv6i9AAADLeJi4VEAAAJJFGnI8QAAAYmGBHEVAAACAKSAILkAAgH3LAa5NQADAWGSkjENAAACAUikHZUAAYCe5F/pAQAAA48+XYFBAAADA8fJ7V0AAAKZGYmgnQAAAJSfiRlFAAAD4azG6P0AAAEAtaHIgQAAADipwAUFAAADG7jFHVUCAtYqqE7JnQAAwNU+Lu01AAADoSX0SY0AAAMqZNZBgQABA6ztN701AAAAAS8igO0AAQNzwTsQkQAAAbAJb4EFAAAAA6o5bLkAAAICBYXdXQABgxgt+BF5AAACo4Tw2XkA=",
          "dtype": "f8"
         }
        }
       ],
       "layout": {
        "height": 600,
        "template": {
         "data": {
          "bar": [
           {
            "error_x": {
             "color": "#2a3f5f"
            },
            "error_y": {
             "color": "#2a3f5f"
            },
            "marker": {
             "line": {
              "color": "white",
              "width": 0.5
             },
             "pattern": {
              "fillmode": "overlay",
              "size": 10,
              "solidity": 0.2
             }
            },
            "type": "bar"
           }
          ],
          "barpolar": [
           {
            "marker": {
             "line": {
              "color": "white",
              "width": 0.5
             },
             "pattern": {
              "fillmode": "overlay",
              "size": 10,
              "solidity": 0.2
             }
            },
            "type": "barpolar"
           }
          ],
          "carpet": [
           {
            "aaxis": {
             "endlinecolor": "#2a3f5f",
             "gridcolor": "#C8D4E3",
             "linecolor": "#C8D4E3",
             "minorgridcolor": "#C8D4E3",
             "startlinecolor": "#2a3f5f"
            },
            "baxis": {
             "endlinecolor": "#2a3f5f",
             "gridcolor": "#C8D4E3",
             "linecolor": "#C8D4E3",
             "minorgridcolor": "#C8D4E3",
             "startlinecolor": "#2a3f5f"
            },
            "type": "carpet"
           }
          ],
          "choropleth": [
           {
            "colorbar": {
             "outlinewidth": 0,
             "ticks": ""
            },
            "type": "choropleth"
           }
          ],
          "contour": [
           {
            "colorbar": {
             "outlinewidth": 0,
             "ticks": ""
            },
            "colorscale": [
             [
              0,
              "#0d0887"
             ],
             [
              0.1111111111111111,
              "#46039f"
             ],
             [
              0.2222222222222222,
              "#7201a8"
             ],
             [
              0.3333333333333333,
              "#9c179e"
             ],
             [
              0.4444444444444444,
              "#bd3786"
             ],
             [
              0.5555555555555556,
              "#d8576b"
             ],
             [
              0.6666666666666666,
              "#ed7953"
             ],
             [
              0.7777777777777778,
              "#fb9f3a"
             ],
             [
              0.8888888888888888,
              "#fdca26"
             ],
             [
              1,
              "#f0f921"
             ]
            ],
            "type": "contour"
           }
          ],
          "contourcarpet": [
           {
            "colorbar": {
             "outlinewidth": 0,
             "ticks": ""
            },
            "type": "contourcarpet"
           }
          ],
          "heatmap": [
           {
            "colorbar": {
             "outlinewidth": 0,
             "ticks": ""
            },
            "colorscale": [
             [
              0,
              "#0d0887"
             ],
             [
              0.1111111111111111,
              "#46039f"
             ],
             [
              0.2222222222222222,
              "#7201a8"
             ],
             [
              0.3333333333333333,
              "#9c179e"
             ],
             [
              0.4444444444444444,
              "#bd3786"
             ],
             [
              0.5555555555555556,
              "#d8576b"
             ],
             [
              0.6666666666666666,
              "#ed7953"
             ],
             [
              0.7777777777777778,
              "#fb9f3a"
             ],
             [
              0.8888888888888888,
              "#fdca26"
             ],
             [
              1,
              "#f0f921"
             ]
            ],
            "type": "heatmap"
           }
          ],
          "histogram": [
           {
            "marker": {
             "pattern": {
              "fillmode": "overlay",
              "size": 10,
              "solidity": 0.2
             }
            },
            "type": "histogram"
           }
          ],
          "histogram2d": [
           {
            "colorbar": {
             "outlinewidth": 0,
             "ticks": ""
            },
            "colorscale": [
             [
              0,
              "#0d0887"
             ],
             [
              0.1111111111111111,
              "#46039f"
             ],
             [
              0.2222222222222222,
              "#7201a8"
             ],
             [
              0.3333333333333333,
              "#9c179e"
             ],
             [
              0.4444444444444444,
              "#bd3786"
             ],
             [
              0.5555555555555556,
              "#d8576b"
             ],
             [
              0.6666666666666666,
              "#ed7953"
             ],
             [
              0.7777777777777778,
              "#fb9f3a"
             ],
             [
              0.8888888888888888,
              "#fdca26"
             ],
             [
              1,
              "#f0f921"
             ]
            ],
            "type": "histogram2d"
           }
          ],
          "histogram2dcontour": [
           {
            "colorbar": {
             "outlinewidth": 0,
             "ticks": ""
            },
            "colorscale": [
             [
              0,
              "#0d0887"
             ],
             [
              0.1111111111111111,
              "#46039f"
             ],
             [
              0.2222222222222222,
              "#7201a8"
             ],
             [
              0.3333333333333333,
              "#9c179e"
             ],
             [
              0.4444444444444444,
              "#bd3786"
             ],
             [
              0.5555555555555556,
              "#d8576b"
             ],
             [
              0.6666666666666666,
              "#ed7953"
             ],
             [
              0.7777777777777778,
              "#fb9f3a"
             ],
             [
              0.8888888888888888,
              "#fdca26"
             ],
             [
              1,
              "#f0f921"
             ]
            ],
            "type": "histogram2dcontour"
           }
          ],
          "mesh3d": [
           {
            "colorbar": {
             "outlinewidth": 0,
             "ticks": ""
            },
            "type": "mesh3d"
           }
          ],
          "parcoords": [
           {
            "line": {
             "colorbar": {
              "outlinewidth": 0,
              "ticks": ""
             }
            },
            "type": "parcoords"
           }
          ],
          "pie": [
           {
            "automargin": true,
            "type": "pie"
           }
          ],
          "scatter": [
           {
            "fillpattern": {
             "fillmode": "overlay",
             "size": 10,
             "solidity": 0.2
            },
            "type": "scatter"
           }
          ],
          "scatter3d": [
           {
            "line": {
             "colorbar": {
              "outlinewidth": 0,
              "ticks": ""
             }
            },
            "marker": {
             "colorbar": {
              "outlinewidth": 0,
              "ticks": ""
             }
            },
            "type": "scatter3d"
           }
          ],
          "scattercarpet": [
           {
            "marker": {
             "colorbar": {
              "outlinewidth": 0,
              "ticks": ""
             }
            },
            "type": "scattercarpet"
           }
          ],
          "scattergeo": [
           {
            "marker": {
             "colorbar": {
              "outlinewidth": 0,
              "ticks": ""
             }
            },
            "type": "scattergeo"
           }
          ],
          "scattergl": [
           {
            "marker": {
             "colorbar": {
              "outlinewidth": 0,
              "ticks": ""
             }
            },
            "type": "scattergl"
           }
          ],
          "scattermap": [
           {
            "marker": {
             "colorbar": {
              "outlinewidth": 0,
              "ticks": ""
             }
            },
            "type": "scattermap"
           }
          ],
          "scattermapbox": [
           {
            "marker": {
             "colorbar": {
              "outlinewidth": 0,
              "ticks": ""
             }
            },
            "type": "scattermapbox"
           }
          ],
          "scatterpolar": [
           {
            "marker": {
             "colorbar": {
              "outlinewidth": 0,
              "ticks": ""
             }
            },
            "type": "scatterpolar"
           }
          ],
          "scatterpolargl": [
           {
            "marker": {
             "colorbar": {
              "outlinewidth": 0,
              "ticks": ""
             }
            },
            "type": "scatterpolargl"
           }
          ],
          "scatterternary": [
           {
            "marker": {
             "colorbar": {
              "outlinewidth": 0,
              "ticks": ""
             }
            },
            "type": "scatterternary"
           }
          ],
          "surface": [
           {
            "colorbar": {
             "outlinewidth": 0,
             "ticks": ""
            },
            "colorscale": [
             [
              0,
              "#0d0887"
             ],
             [
              0.1111111111111111,
              "#46039f"
             ],
             [
              0.2222222222222222,
              "#7201a8"
             ],
             [
              0.3333333333333333,
              "#9c179e"
             ],
             [
              0.4444444444444444,
              "#bd3786"
             ],
             [
              0.5555555555555556,
              "#d8576b"
             ],
             [
              0.6666666666666666,
              "#ed7953"
             ],
             [
              0.7777777777777778,
              "#fb9f3a"
             ],
             [
              0.8888888888888888,
              "#fdca26"
             ],
             [
              1,
              "#f0f921"
             ]
            ],
            "type": "surface"
           }
          ],
          "table": [
           {
            "cells": {
             "fill": {
              "color": "#EBF0F8"
             },
             "line": {
              "color": "white"
             }
            },
            "header": {
             "fill": {
              "color": "#C8D4E3"
             },
             "line": {
              "color": "white"
             }
            },
            "type": "table"
           }
          ]
         },
         "layout": {
          "annotationdefaults": {
           "arrowcolor": "#2a3f5f",
           "arrowhead": 0,
           "arrowwidth": 1
          },
          "autotypenumbers": "strict",
          "coloraxis": {
           "colorbar": {
            "outlinewidth": 0,
            "ticks": ""
           }
          },
          "colorscale": {
           "diverging": [
            [
             0,
             "#8e0152"
            ],
            [
             0.1,
             "#c51b7d"
            ],
            [
             0.2,
             "#de77ae"
            ],
            [
             0.3,
             "#f1b6da"
            ],
            [
             0.4,
             "#fde0ef"
            ],
            [
             0.5,
             "#f7f7f7"
            ],
            [
             0.6,
             "#e6f5d0"
            ],
            [
             0.7,
             "#b8e186"
            ],
            [
             0.8,
             "#7fbc41"
            ],
            [
             0.9,
             "#4d9221"
            ],
            [
             1,
             "#276419"
            ]
           ],
           "sequential": [
            [
             0,
             "#0d0887"
            ],
            [
             0.1111111111111111,
             "#46039f"
            ],
            [
             0.2222222222222222,
             "#7201a8"
            ],
            [
             0.3333333333333333,
             "#9c179e"
            ],
            [
             0.4444444444444444,
             "#bd3786"
            ],
            [
             0.5555555555555556,
             "#d8576b"
            ],
            [
             0.6666666666666666,
             "#ed7953"
            ],
            [
             0.7777777777777778,
             "#fb9f3a"
            ],
            [
             0.8888888888888888,
             "#fdca26"
            ],
            [
             1,
             "#f0f921"
            ]
           ],
           "sequentialminus": [
            [
             0,
             "#0d0887"
            ],
            [
             0.1111111111111111,
             "#46039f"
            ],
            [
             0.2222222222222222,
             "#7201a8"
            ],
            [
             0.3333333333333333,
             "#9c179e"
            ],
            [
             0.4444444444444444,
             "#bd3786"
            ],
            [
             0.5555555555555556,
             "#d8576b"
            ],
            [
             0.6666666666666666,
             "#ed7953"
            ],
            [
             0.7777777777777778,
             "#fb9f3a"
            ],
            [
             0.8888888888888888,
             "#fdca26"
            ],
            [
             1,
             "#f0f921"
            ]
           ]
          },
          "colorway": [
           "#636efa",
           "#EF553B",
           "#00cc96",
           "#ab63fa",
           "#FFA15A",
           "#19d3f3",
           "#FF6692",
           "#B6E880",
           "#FF97FF",
           "#FECB52"
          ],
          "font": {
           "color": "#2a3f5f"
          },
          "geo": {
           "bgcolor": "white",
           "lakecolor": "white",
           "landcolor": "white",
           "showlakes": true,
           "showland": true,
           "subunitcolor": "#C8D4E3"
          },
          "hoverlabel": {
           "align": "left"
          },
          "hovermode": "closest",
          "mapbox": {
           "style": "light"
          },
          "paper_bgcolor": "white",
          "plot_bgcolor": "white",
          "polar": {
           "angularaxis": {
            "gridcolor": "#EBF0F8",
            "linecolor": "#EBF0F8",
            "ticks": ""
           },
           "bgcolor": "white",
           "radialaxis": {
            "gridcolor": "#EBF0F8",
            "linecolor": "#EBF0F8",
            "ticks": ""
           }
          },
          "scene": {
           "xaxis": {
            "backgroundcolor": "white",
            "gridcolor": "#DFE8F3",
            "gridwidth": 2,
            "linecolor": "#EBF0F8",
            "showbackground": true,
            "ticks": "",
            "zerolinecolor": "#EBF0F8"
           },
           "yaxis": {
            "backgroundcolor": "white",
            "gridcolor": "#DFE8F3",
            "gridwidth": 2,
            "linecolor": "#EBF0F8",
            "showbackground": true,
            "ticks": "",
            "zerolinecolor": "#EBF0F8"
           },
           "zaxis": {
            "backgroundcolor": "white",
            "gridcolor": "#DFE8F3",
            "gridwidth": 2,
            "linecolor": "#EBF0F8",
            "showbackground": true,
            "ticks": "",
            "zerolinecolor": "#EBF0F8"
           }
          },
          "shapedefaults": {
           "line": {
            "color": "#2a3f5f"
           }
          },
          "ternary": {
           "aaxis": {
            "gridcolor": "#DFE8F3",
            "linecolor": "#A2B1C6",
            "ticks": ""
           },
           "baxis": {
            "gridcolor": "#DFE8F3",
            "linecolor": "#A2B1C6",
            "ticks": ""
           },
           "bgcolor": "white",
           "caxis": {
            "gridcolor": "#DFE8F3",
            "linecolor": "#A2B1C6",
            "ticks": ""
           }
          },
          "title": {
           "x": 0.05
          },
          "xaxis": {
           "automargin": true,
           "gridcolor": "#EBF0F8",
           "linecolor": "#EBF0F8",
           "ticks": "",
           "title": {
            "standoff": 15
           },
           "zerolinecolor": "#EBF0F8",
           "zerolinewidth": 2
          },
          "yaxis": {
           "automargin": true,
           "gridcolor": "#EBF0F8",
           "linecolor": "#EBF0F8",
           "ticks": "",
           "title": {
            "standoff": 15
           },
           "zerolinecolor": "#EBF0F8",
           "zerolinewidth": 2
          }
         }
        },
        "title": {},
        "width": 800,
        "xaxis": {
         "title": {
          "text": "electbyfuel_total"
         }
        },
        "yaxis": {
         "title": {
          "text": "co2_combust_mtco2"
         }
        }
       }
      }
     },
     "metadata": {},
     "output_type": "display_data"
    }
   ],
   "source": [
    "DataViz = DataVisualizer(energyData.sort_values('electbyfuel_total'), theme='plotly_white')\n",
    "DataViz.LineChart(xcol='electbyfuel_total', ycol='co2_combust_mtco2')\n",
    "DataViz.show()\n",
    "# DataViz.ScatterPlot(xcol='electbyfuel_total', ycol='co2_combust_mtco2')\n",
    "# DataViz.show()\n",
    "# DataViz.BoxPlot(ycol = 'co2_combust_mtco2')\n",
    "# DataViz = DataVisualizer(energyData.sort_values('co2_mtco2'), theme='plotly_white')\n",
    "# DataViz.BarChart(xcol='Country', ycol='co2_mtco2', title='Total CO2 emissions (Million tons)')\n",
    "# DataViz.show()\n",
    "# DataViz = DataVisualizer(energyData.sort_values('co2_combust_mtco2'), theme='plotly_white')\n",
    "# DataViz.BarChart(xcol='Country', ycol='co2_combust_mtco2', title='CO2 (Million tons) emissions from combustion processes')\n",
    "# DataViz.show()"
   ]
  },
  {
   "cell_type": "code",
   "execution_count": 33,
   "id": "6140ca81",
   "metadata": {},
   "outputs": [
    {
     "data": {
      "application/vnd.plotly.v1+json": {
       "config": {
        "plotlyServerURL": "https://plot.ly"
       },
       "data": [
        {
         "name": "X: Country - Y: co2_mtco2",
         "type": "bar",
         "x": [
          "North Macedonia",
          "Slovenia",
          "Lithuania",
          "Estonia",
          "Croatia",
          "Trinidad & Tobago",
          "Slovakia",
          "Denmark",
          "New Zealand",
          "Norway",
          "Ireland",
          "Sweden",
          "Bulgaria",
          "Hungary",
          "Azerbaijan",
          "Belarus",
          "Austria",
          "Ecuador",
          "Greece",
          "China Hong Kong SAR",
          "Israel",
          "Peru",
          "Romania",
          "Morocco",
          "Czech Republic",
          "Chile",
          "Belgium",
          "Oman",
          "Bangladesh",
          "Kuwait",
          "Ukraine",
          "Colombia",
          "Uzbekistan",
          "Netherlands",
          "Philippines",
          "Qatar",
          "Pakistan",
          "Turkmenistan",
          "Venezuela",
          "Argentina",
          "Algeria",
          "Spain",
          "France",
          "Taiwan",
          "Iraq",
          "Egypt",
          "Poland",
          "Thailand",
          "Kazakhstan",
          "Italy",
          "Malaysia",
          "United Kingdom",
          "United Arab Emirates",
          "Vietnam",
          "Australia",
          "Turkiye",
          "South Africa",
          "Brazil",
          "Mexico",
          "Germany",
          "South Korea",
          "Canada",
          "Saudi Arabia",
          "Indonesia",
          "Iran",
          "Japan",
          "Russian Federation",
          "India",
          "US",
          "China"
         ],
         "xaxis": "x",
         "y": {
          "bdata": "AABALWhyIEAAQPztC84lQAAApmK8rChAAAAAIehDLkAAgGA56YkxQAAAgLIsbTRAAABG2yUgPUAAAFL61B4+QAAA1QfTakBAAADOiGu7QUAAYCdBTy9CQAAAe6gFk0JAAP7BtZnMQkAAwNj3WpVEQABw4P1GJEtAAABT2vmXS0AA6DAIrfxLQAAAYqMFH0xAAID1HEagT0AAAFall51QQAAAr3kEDFFAAJj67ZZMUUAAoFm8W2VRQAAABdJfmVJAAADL6WTwVUAAoMtIT/lVQABA9rLXf1pAAADG8Zd/W0AAAOgRhSZfQAAAQKBhcF9AAAAMeNRrYEAAAEkDz0ZhQAAwgxAcHmNAAICmif+OY0AAAFjH7X9kQAAAyuW4h2RAgLWKtTa/a0AAAGCOgMZrQAAAVH0rH2xAAEDejEKsbEAAAIBziRFvQACU7dcn3W9AAADczihvcEAAwJgQHOxwQAAAQFwCZHFAAACIwml1cUAAQEHx6rByQIBLm5+F4XJAACBXCKhKc0AAjYbNqIpzQAAAVERgHnRAAJDxHrUodUAAAACNrEx1QACAUjdNRndAABDLgfKGe0AAQCnuGpJ8QADSnb2f4X1AAGCsI/hngECArXiH632BQACO98Qta4JAAIDcM1uRgkAAwCPz9bqCQAAANE6Jr4ZAADBKrKrrikAAUB7znkeNQGAVZos1OpBAAAAAgyYAoUAAAHQ9GGOoQACw9NYlCrRAAADR6sGdyEA=",
          "dtype": "f8"
         },
         "yaxis": "y"
        },
        {
         "name": "X: Country - Y: co2_mtco2_pc",
         "type": "bar",
         "x": [
          "North Macedonia",
          "Slovenia",
          "Lithuania",
          "Estonia",
          "Croatia",
          "Trinidad & Tobago",
          "Slovakia",
          "Denmark",
          "New Zealand",
          "Norway",
          "Ireland",
          "Sweden",
          "Bulgaria",
          "Hungary",
          "Azerbaijan",
          "Belarus",
          "Austria",
          "Ecuador",
          "Greece",
          "China Hong Kong SAR",
          "Israel",
          "Peru",
          "Romania",
          "Morocco",
          "Czech Republic",
          "Chile",
          "Belgium",
          "Oman",
          "Bangladesh",
          "Kuwait",
          "Ukraine",
          "Colombia",
          "Uzbekistan",
          "Netherlands",
          "Philippines",
          "Qatar",
          "Pakistan",
          "Turkmenistan",
          "Venezuela",
          "Argentina",
          "Algeria",
          "Spain",
          "France",
          "Taiwan",
          "Iraq",
          "Egypt",
          "Poland",
          "Thailand",
          "Kazakhstan",
          "Italy",
          "Malaysia",
          "United Kingdom",
          "United Arab Emirates",
          "Vietnam",
          "Australia",
          "Turkiye",
          "South Africa",
          "Brazil",
          "Mexico",
          "Germany",
          "South Korea",
          "Canada",
          "Saudi Arabia",
          "Indonesia",
          "Iran",
          "Japan",
          "Russian Federation",
          "India",
          "US",
          "China"
         ],
         "xaxis": "x2",
         "y": {
          "bdata": "Kf3Vv+OKD0BbtFtA5JIUQFwmp3x5JxJAQKN1YFvhJkBgeHCzQoARQFJWw1SJnSpAE/jjUm4aFECZADr1B2IUQOigO3khHxlAuK6ZzrfpGUBvWK69osQcQB1bErQ3AQxABniOU/F8FkCgxkiaojYQQLTKBJxV2hRAFJbzAbc9F0BOTvxPxv0YQPwn0hEfvAhAcUCPpkR3GEA6Pd1mP74hQJYURoOsuh1AsyQ7x0kdAEDM86ZPxPsLQDoHuRMOdf8/SiNCaBO5IEA9e9HXKukRQNL9frYGJCJAVnTdAOOuN0DXLqn3xw3nP9ys8+tOLT1AGqnVUQaaDEC1p55KjjoFQJkLWKzAZRFAtdh+vxbDIUBG8vj/0Fz2P3BQDKdFO05ApM+JyXWJ7T/RJbbV4QxBQIFvASRmNB9AJHKb8n0LFEDuY7jposwVQGbC6rwTdRVAR+SoSQE+EEBN6G23q6ImQE5klQ6KdRhAar+nWG3TA0AtrsDoZCgdQL7CMeda1BBAgxvSXmJ8L0DFq17Khj4VQM3RMVTSwyJAhezcAOP9E0C/3lTlledBQGTY0nWnIg5A+e9BLo+oMEA2ZVSEtk4VQFonfgOepx9A1eOQawZoA0BuhMQFCm4RQDZeji/hTRxAp3gENK7yJkD/zitrB+kuQH3GlY/vpTNAuSTOou/UCECJu3OYqgMlQIG0DsDA2CBAliC8sFohLkCpNILG33oBQJRyqCZ6LS5ASMQH00muIUA=",
          "dtype": "f8"
         },
         "yaxis": "y2"
        }
       ],
       "layout": {
        "height": 600,
        "template": {
         "data": {
          "bar": [
           {
            "error_x": {
             "color": "#2a3f5f"
            },
            "error_y": {
             "color": "#2a3f5f"
            },
            "marker": {
             "line": {
              "color": "white",
              "width": 0.5
             },
             "pattern": {
              "fillmode": "overlay",
              "size": 10,
              "solidity": 0.2
             }
            },
            "type": "bar"
           }
          ],
          "barpolar": [
           {
            "marker": {
             "line": {
              "color": "white",
              "width": 0.5
             },
             "pattern": {
              "fillmode": "overlay",
              "size": 10,
              "solidity": 0.2
             }
            },
            "type": "barpolar"
           }
          ],
          "carpet": [
           {
            "aaxis": {
             "endlinecolor": "#2a3f5f",
             "gridcolor": "#C8D4E3",
             "linecolor": "#C8D4E3",
             "minorgridcolor": "#C8D4E3",
             "startlinecolor": "#2a3f5f"
            },
            "baxis": {
             "endlinecolor": "#2a3f5f",
             "gridcolor": "#C8D4E3",
             "linecolor": "#C8D4E3",
             "minorgridcolor": "#C8D4E3",
             "startlinecolor": "#2a3f5f"
            },
            "type": "carpet"
           }
          ],
          "choropleth": [
           {
            "colorbar": {
             "outlinewidth": 0,
             "ticks": ""
            },
            "type": "choropleth"
           }
          ],
          "contour": [
           {
            "colorbar": {
             "outlinewidth": 0,
             "ticks": ""
            },
            "colorscale": [
             [
              0,
              "#0d0887"
             ],
             [
              0.1111111111111111,
              "#46039f"
             ],
             [
              0.2222222222222222,
              "#7201a8"
             ],
             [
              0.3333333333333333,
              "#9c179e"
             ],
             [
              0.4444444444444444,
              "#bd3786"
             ],
             [
              0.5555555555555556,
              "#d8576b"
             ],
             [
              0.6666666666666666,
              "#ed7953"
             ],
             [
              0.7777777777777778,
              "#fb9f3a"
             ],
             [
              0.8888888888888888,
              "#fdca26"
             ],
             [
              1,
              "#f0f921"
             ]
            ],
            "type": "contour"
           }
          ],
          "contourcarpet": [
           {
            "colorbar": {
             "outlinewidth": 0,
             "ticks": ""
            },
            "type": "contourcarpet"
           }
          ],
          "heatmap": [
           {
            "colorbar": {
             "outlinewidth": 0,
             "ticks": ""
            },
            "colorscale": [
             [
              0,
              "#0d0887"
             ],
             [
              0.1111111111111111,
              "#46039f"
             ],
             [
              0.2222222222222222,
              "#7201a8"
             ],
             [
              0.3333333333333333,
              "#9c179e"
             ],
             [
              0.4444444444444444,
              "#bd3786"
             ],
             [
              0.5555555555555556,
              "#d8576b"
             ],
             [
              0.6666666666666666,
              "#ed7953"
             ],
             [
              0.7777777777777778,
              "#fb9f3a"
             ],
             [
              0.8888888888888888,
              "#fdca26"
             ],
             [
              1,
              "#f0f921"
             ]
            ],
            "type": "heatmap"
           }
          ],
          "histogram": [
           {
            "marker": {
             "pattern": {
              "fillmode": "overlay",
              "size": 10,
              "solidity": 0.2
             }
            },
            "type": "histogram"
           }
          ],
          "histogram2d": [
           {
            "colorbar": {
             "outlinewidth": 0,
             "ticks": ""
            },
            "colorscale": [
             [
              0,
              "#0d0887"
             ],
             [
              0.1111111111111111,
              "#46039f"
             ],
             [
              0.2222222222222222,
              "#7201a8"
             ],
             [
              0.3333333333333333,
              "#9c179e"
             ],
             [
              0.4444444444444444,
              "#bd3786"
             ],
             [
              0.5555555555555556,
              "#d8576b"
             ],
             [
              0.6666666666666666,
              "#ed7953"
             ],
             [
              0.7777777777777778,
              "#fb9f3a"
             ],
             [
              0.8888888888888888,
              "#fdca26"
             ],
             [
              1,
              "#f0f921"
             ]
            ],
            "type": "histogram2d"
           }
          ],
          "histogram2dcontour": [
           {
            "colorbar": {
             "outlinewidth": 0,
             "ticks": ""
            },
            "colorscale": [
             [
              0,
              "#0d0887"
             ],
             [
              0.1111111111111111,
              "#46039f"
             ],
             [
              0.2222222222222222,
              "#7201a8"
             ],
             [
              0.3333333333333333,
              "#9c179e"
             ],
             [
              0.4444444444444444,
              "#bd3786"
             ],
             [
              0.5555555555555556,
              "#d8576b"
             ],
             [
              0.6666666666666666,
              "#ed7953"
             ],
             [
              0.7777777777777778,
              "#fb9f3a"
             ],
             [
              0.8888888888888888,
              "#fdca26"
             ],
             [
              1,
              "#f0f921"
             ]
            ],
            "type": "histogram2dcontour"
           }
          ],
          "mesh3d": [
           {
            "colorbar": {
             "outlinewidth": 0,
             "ticks": ""
            },
            "type": "mesh3d"
           }
          ],
          "parcoords": [
           {
            "line": {
             "colorbar": {
              "outlinewidth": 0,
              "ticks": ""
             }
            },
            "type": "parcoords"
           }
          ],
          "pie": [
           {
            "automargin": true,
            "type": "pie"
           }
          ],
          "scatter": [
           {
            "fillpattern": {
             "fillmode": "overlay",
             "size": 10,
             "solidity": 0.2
            },
            "type": "scatter"
           }
          ],
          "scatter3d": [
           {
            "line": {
             "colorbar": {
              "outlinewidth": 0,
              "ticks": ""
             }
            },
            "marker": {
             "colorbar": {
              "outlinewidth": 0,
              "ticks": ""
             }
            },
            "type": "scatter3d"
           }
          ],
          "scattercarpet": [
           {
            "marker": {
             "colorbar": {
              "outlinewidth": 0,
              "ticks": ""
             }
            },
            "type": "scattercarpet"
           }
          ],
          "scattergeo": [
           {
            "marker": {
             "colorbar": {
              "outlinewidth": 0,
              "ticks": ""
             }
            },
            "type": "scattergeo"
           }
          ],
          "scattergl": [
           {
            "marker": {
             "colorbar": {
              "outlinewidth": 0,
              "ticks": ""
             }
            },
            "type": "scattergl"
           }
          ],
          "scattermap": [
           {
            "marker": {
             "colorbar": {
              "outlinewidth": 0,
              "ticks": ""
             }
            },
            "type": "scattermap"
           }
          ],
          "scattermapbox": [
           {
            "marker": {
             "colorbar": {
              "outlinewidth": 0,
              "ticks": ""
             }
            },
            "type": "scattermapbox"
           }
          ],
          "scatterpolar": [
           {
            "marker": {
             "colorbar": {
              "outlinewidth": 0,
              "ticks": ""
             }
            },
            "type": "scatterpolar"
           }
          ],
          "scatterpolargl": [
           {
            "marker": {
             "colorbar": {
              "outlinewidth": 0,
              "ticks": ""
             }
            },
            "type": "scatterpolargl"
           }
          ],
          "scatterternary": [
           {
            "marker": {
             "colorbar": {
              "outlinewidth": 0,
              "ticks": ""
             }
            },
            "type": "scatterternary"
           }
          ],
          "surface": [
           {
            "colorbar": {
             "outlinewidth": 0,
             "ticks": ""
            },
            "colorscale": [
             [
              0,
              "#0d0887"
             ],
             [
              0.1111111111111111,
              "#46039f"
             ],
             [
              0.2222222222222222,
              "#7201a8"
             ],
             [
              0.3333333333333333,
              "#9c179e"
             ],
             [
              0.4444444444444444,
              "#bd3786"
             ],
             [
              0.5555555555555556,
              "#d8576b"
             ],
             [
              0.6666666666666666,
              "#ed7953"
             ],
             [
              0.7777777777777778,
              "#fb9f3a"
             ],
             [
              0.8888888888888888,
              "#fdca26"
             ],
             [
              1,
              "#f0f921"
             ]
            ],
            "type": "surface"
           }
          ],
          "table": [
           {
            "cells": {
             "fill": {
              "color": "#EBF0F8"
             },
             "line": {
              "color": "white"
             }
            },
            "header": {
             "fill": {
              "color": "#C8D4E3"
             },
             "line": {
              "color": "white"
             }
            },
            "type": "table"
           }
          ]
         },
         "layout": {
          "annotationdefaults": {
           "arrowcolor": "#2a3f5f",
           "arrowhead": 0,
           "arrowwidth": 1
          },
          "autotypenumbers": "strict",
          "coloraxis": {
           "colorbar": {
            "outlinewidth": 0,
            "ticks": ""
           }
          },
          "colorscale": {
           "diverging": [
            [
             0,
             "#8e0152"
            ],
            [
             0.1,
             "#c51b7d"
            ],
            [
             0.2,
             "#de77ae"
            ],
            [
             0.3,
             "#f1b6da"
            ],
            [
             0.4,
             "#fde0ef"
            ],
            [
             0.5,
             "#f7f7f7"
            ],
            [
             0.6,
             "#e6f5d0"
            ],
            [
             0.7,
             "#b8e186"
            ],
            [
             0.8,
             "#7fbc41"
            ],
            [
             0.9,
             "#4d9221"
            ],
            [
             1,
             "#276419"
            ]
           ],
           "sequential": [
            [
             0,
             "#0d0887"
            ],
            [
             0.1111111111111111,
             "#46039f"
            ],
            [
             0.2222222222222222,
             "#7201a8"
            ],
            [
             0.3333333333333333,
             "#9c179e"
            ],
            [
             0.4444444444444444,
             "#bd3786"
            ],
            [
             0.5555555555555556,
             "#d8576b"
            ],
            [
             0.6666666666666666,
             "#ed7953"
            ],
            [
             0.7777777777777778,
             "#fb9f3a"
            ],
            [
             0.8888888888888888,
             "#fdca26"
            ],
            [
             1,
             "#f0f921"
            ]
           ],
           "sequentialminus": [
            [
             0,
             "#0d0887"
            ],
            [
             0.1111111111111111,
             "#46039f"
            ],
            [
             0.2222222222222222,
             "#7201a8"
            ],
            [
             0.3333333333333333,
             "#9c179e"
            ],
            [
             0.4444444444444444,
             "#bd3786"
            ],
            [
             0.5555555555555556,
             "#d8576b"
            ],
            [
             0.6666666666666666,
             "#ed7953"
            ],
            [
             0.7777777777777778,
             "#fb9f3a"
            ],
            [
             0.8888888888888888,
             "#fdca26"
            ],
            [
             1,
             "#f0f921"
            ]
           ]
          },
          "colorway": [
           "#636efa",
           "#EF553B",
           "#00cc96",
           "#ab63fa",
           "#FFA15A",
           "#19d3f3",
           "#FF6692",
           "#B6E880",
           "#FF97FF",
           "#FECB52"
          ],
          "font": {
           "color": "#2a3f5f"
          },
          "geo": {
           "bgcolor": "white",
           "lakecolor": "white",
           "landcolor": "white",
           "showlakes": true,
           "showland": true,
           "subunitcolor": "#C8D4E3"
          },
          "hoverlabel": {
           "align": "left"
          },
          "hovermode": "closest",
          "mapbox": {
           "style": "light"
          },
          "paper_bgcolor": "white",
          "plot_bgcolor": "white",
          "polar": {
           "angularaxis": {
            "gridcolor": "#EBF0F8",
            "linecolor": "#EBF0F8",
            "ticks": ""
           },
           "bgcolor": "white",
           "radialaxis": {
            "gridcolor": "#EBF0F8",
            "linecolor": "#EBF0F8",
            "ticks": ""
           }
          },
          "scene": {
           "xaxis": {
            "backgroundcolor": "white",
            "gridcolor": "#DFE8F3",
            "gridwidth": 2,
            "linecolor": "#EBF0F8",
            "showbackground": true,
            "ticks": "",
            "zerolinecolor": "#EBF0F8"
           },
           "yaxis": {
            "backgroundcolor": "white",
            "gridcolor": "#DFE8F3",
            "gridwidth": 2,
            "linecolor": "#EBF0F8",
            "showbackground": true,
            "ticks": "",
            "zerolinecolor": "#EBF0F8"
           },
           "zaxis": {
            "backgroundcolor": "white",
            "gridcolor": "#DFE8F3",
            "gridwidth": 2,
            "linecolor": "#EBF0F8",
            "showbackground": true,
            "ticks": "",
            "zerolinecolor": "#EBF0F8"
           }
          },
          "shapedefaults": {
           "line": {
            "color": "#2a3f5f"
           }
          },
          "ternary": {
           "aaxis": {
            "gridcolor": "#DFE8F3",
            "linecolor": "#A2B1C6",
            "ticks": ""
           },
           "baxis": {
            "gridcolor": "#DFE8F3",
            "linecolor": "#A2B1C6",
            "ticks": ""
           },
           "bgcolor": "white",
           "caxis": {
            "gridcolor": "#DFE8F3",
            "linecolor": "#A2B1C6",
            "ticks": ""
           }
          },
          "title": {
           "x": 0.05
          },
          "xaxis": {
           "automargin": true,
           "gridcolor": "#EBF0F8",
           "linecolor": "#EBF0F8",
           "ticks": "",
           "title": {
            "standoff": 15
           },
           "zerolinecolor": "#EBF0F8",
           "zerolinewidth": 2
          },
          "yaxis": {
           "automargin": true,
           "gridcolor": "#EBF0F8",
           "linecolor": "#EBF0F8",
           "ticks": "",
           "title": {
            "standoff": 15
           },
           "zerolinecolor": "#EBF0F8",
           "zerolinewidth": 2
          }
         }
        },
        "title": {},
        "width": 800,
        "xaxis": {
         "anchor": "y",
         "domain": [
          0,
          0.45
         ],
         "title": {
          "text": "Country"
         }
        },
        "xaxis2": {
         "anchor": "y2",
         "domain": [
          0.55,
          1
         ]
        },
        "yaxis": {
         "anchor": "x",
         "domain": [
          0,
          1
         ],
         "title": {
          "text": "co2_mtco2_pc"
         }
        },
        "yaxis2": {
         "anchor": "x2",
         "domain": [
          0,
          1
         ]
        }
       }
      }
     },
     "metadata": {},
     "output_type": "display_data"
    }
   ],
   "source": [
    "SubPlotsViz = SubPlots(df = energyData.sort_values('co2_mtco2'))\n",
    "SubPlotsViz.BarChartSubPlots(rows = 1, cols=2, xcol='Country', ycol=('co2_mtco2','co2_mtco2_pc'))"
   ]
  }
 ],
 "metadata": {
  "kernelspec": {
   "display_name": ".venv",
   "language": "python",
   "name": "python3"
  },
  "language_info": {
   "codemirror_mode": {
    "name": "ipython",
    "version": 3
   },
   "file_extension": ".py",
   "mimetype": "text/x-python",
   "name": "python",
   "nbconvert_exporter": "python",
   "pygments_lexer": "ipython3",
   "version": "3.13.3"
  }
 },
 "nbformat": 4,
 "nbformat_minor": 5
}

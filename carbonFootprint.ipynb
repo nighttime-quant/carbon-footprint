{
 "cells": [
  {
   "cell_type": "markdown",
   "id": "6c6348ed",
   "metadata": {},
   "source": [
    "# Overview on worldwide carbon emissions and electricity sources"
   ]
  },
  {
   "cell_type": "markdown",
   "id": "6ce60923",
   "metadata": {},
   "source": [
    "#### Analysis on worldwide CO2 emissions, the impact different electricity sources have on the carbon footprint of a country and how they can help smooth sudden energy prices movements."
   ]
  },
  {
   "cell_type": "markdown",
   "id": "27c00346",
   "metadata": {},
   "source": [
    "### 1.0 Purpose of this analysis\n",
    "This analysis can be divided into two parts.\n",
    "In the first part, the goal is to assess the status of ___worldwide CO2 emissions___ as of 2023, as well as the impact of ___various electricity production sources___ on a country's carbon footprint and how these trends evolved over time. Particular focus has been dedicated to CO2 emissions from combustion processes (in mln tons) rather than countries' total emissions, as the former are more relevant to electricity production processes.    \n",
    "In the last sections, the information from the first part is utilized to assess how the energy mix of a country can help smooth the impact of sudden movements in energy's market prices."
   ]
  },
  {
   "cell_type": "markdown",
   "id": "85d672b5",
   "metadata": {},
   "source": [
    "### 2.0 Overview of the data  \n",
    "The dataset presented in this analysis has been sourced from the Energy Institute website, and includes information on carbon emissions and electricity production from various sources, mainly fossil fuels, nuclear energy, renewables and other sources.    \n",
    "The data is a panel data, providing insight on countries from all over the globe and across various years. It has been however chosen to focus on the year 2023, the latest year available, to provide a quick overview of the most recent information on the matter.   \n",
    "An overview of the most relevant attributes is provided below, after selecting the features to be included in the analysis.\n"
   ]
  },
  {
   "cell_type": "code",
   "execution_count": 2,
   "id": "ccc2067d",
   "metadata": {},
   "outputs": [
    {
     "name": "stdout",
     "output_type": "stream",
     "text": [
      "c:\\Users\\enric\\Documents\\carbon-footprint\\.venv\\Scripts\\python.exe\n"
     ]
    }
   ],
   "source": [
    "import sys\n",
    "print(sys.executable)"
   ]
  },
  {
   "cell_type": "code",
   "execution_count": 3,
   "id": "0800096c",
   "metadata": {},
   "outputs": [],
   "source": [
    "%load_ext autoreload\n",
    "%autoreload 2\n",
    "import pandas as pd\n",
    "import numpy as np\n",
    "import matplotlib.pyplot as pyplot\n",
    "import plotly.graph_objects as go\n",
    "import plotly.express as px\n",
    "import requests\n",
    "import os\n",
    "import warnings\n",
    "import seaborn as sns\n",
    "import polars\n",
    "from scipy.stats import pearsonr\n",
    "from scipy.stats import ks_2samp\n",
    "from sklearn.preprocessing import PowerTransformer\n",
    "from utils import *\n",
    "\n",
    "warnings.filterwarnings('ignore')"
   ]
  },
  {
   "cell_type": "code",
   "execution_count": 4,
   "id": "645157b6",
   "metadata": {},
   "outputs": [
    {
     "data": {
      "text/html": [
       "<div>\n",
       "<style scoped>\n",
       "    .dataframe tbody tr th:only-of-type {\n",
       "        vertical-align: middle;\n",
       "    }\n",
       "\n",
       "    .dataframe tbody tr th {\n",
       "        vertical-align: top;\n",
       "    }\n",
       "\n",
       "    .dataframe thead th {\n",
       "        text-align: right;\n",
       "    }\n",
       "</style>\n",
       "<table border=\"1\" class=\"dataframe\">\n",
       "  <thead>\n",
       "    <tr style=\"text-align: right;\">\n",
       "      <th></th>\n",
       "      <th>Code</th>\n",
       "      <th>Variable</th>\n",
       "      <th>Units</th>\n",
       "    </tr>\n",
       "  </thead>\n",
       "  <tbody>\n",
       "    <tr>\n",
       "      <th>0</th>\n",
       "      <td>biodiesel_cons_kboed</td>\n",
       "      <td>biodiesel consumption</td>\n",
       "      <td>thousand barrels of oil equivalent per day</td>\n",
       "    </tr>\n",
       "    <tr>\n",
       "      <th>1</th>\n",
       "      <td>biodiesel_cons_pj</td>\n",
       "      <td>biodiesel consumption</td>\n",
       "      <td>Petajoules</td>\n",
       "    </tr>\n",
       "    <tr>\n",
       "      <th>2</th>\n",
       "      <td>biodiesel_prod_kboed</td>\n",
       "      <td>biodiesel production</td>\n",
       "      <td>thousand barrels of oil equivalent per day</td>\n",
       "    </tr>\n",
       "    <tr>\n",
       "      <th>3</th>\n",
       "      <td>biodiesel_prod_pj</td>\n",
       "      <td>biodiesel production</td>\n",
       "      <td>Petajoules</td>\n",
       "    </tr>\n",
       "    <tr>\n",
       "      <th>4</th>\n",
       "      <td>biofuels_cons_ej</td>\n",
       "      <td>biofuels consumption</td>\n",
       "      <td>Exajoules</td>\n",
       "    </tr>\n",
       "    <tr>\n",
       "      <th>...</th>\n",
       "      <td>...</td>\n",
       "      <td>...</td>\n",
       "      <td>...</td>\n",
       "    </tr>\n",
       "    <tr>\n",
       "      <th>86</th>\n",
       "      <td>solar_twh</td>\n",
       "      <td>Solar generation</td>\n",
       "      <td>Terawatt-hour</td>\n",
       "    </tr>\n",
       "    <tr>\n",
       "      <th>87</th>\n",
       "      <td>solar_twh_net</td>\n",
       "      <td>Solar generation</td>\n",
       "      <td>Terawatt-hour net</td>\n",
       "    </tr>\n",
       "    <tr>\n",
       "      <th>88</th>\n",
       "      <td>wind_ej</td>\n",
       "      <td>Wind consumption</td>\n",
       "      <td>Exajoules</td>\n",
       "    </tr>\n",
       "    <tr>\n",
       "      <th>89</th>\n",
       "      <td>wind_twh</td>\n",
       "      <td>Wind generation</td>\n",
       "      <td>Terawatt-hour</td>\n",
       "    </tr>\n",
       "    <tr>\n",
       "      <th>90</th>\n",
       "      <td>wind_twh_net</td>\n",
       "      <td>Wind generation</td>\n",
       "      <td>Terawatt-hour net</td>\n",
       "    </tr>\n",
       "  </tbody>\n",
       "</table>\n",
       "<p>91 rows × 3 columns</p>\n",
       "</div>"
      ],
      "text/plain": [
       "                    Code                Variable  \\\n",
       "0   biodiesel_cons_kboed  biodiesel consumption    \n",
       "1      biodiesel_cons_pj  biodiesel consumption    \n",
       "2   biodiesel_prod_kboed    biodiesel production   \n",
       "3      biodiesel_prod_pj    biodiesel production   \n",
       "4       biofuels_cons_ej    biofuels consumption   \n",
       "..                   ...                     ...   \n",
       "86             solar_twh        Solar generation   \n",
       "87         solar_twh_net        Solar generation   \n",
       "88               wind_ej        Wind consumption   \n",
       "89              wind_twh         Wind generation   \n",
       "90          wind_twh_net         Wind generation   \n",
       "\n",
       "                                         Units  \n",
       "0   thousand barrels of oil equivalent per day  \n",
       "1                                   Petajoules  \n",
       "2   thousand barrels of oil equivalent per day  \n",
       "3                                   Petajoules  \n",
       "4                                    Exajoules  \n",
       "..                                         ...  \n",
       "86                               Terawatt-hour  \n",
       "87                           Terawatt-hour net  \n",
       "88                                   Exajoules  \n",
       "89                               Terawatt-hour  \n",
       "90                           Terawatt-hour net  \n",
       "\n",
       "[91 rows x 3 columns]"
      ]
     },
     "execution_count": 4,
     "metadata": {},
     "output_type": "execute_result"
    }
   ],
   "source": [
    "# Download and save data\n",
    "panelUrl = \"https://www.energyinst.org/__data/assets/excel_doc/0007/1055752/merged_panel.xlsx\"\n",
    "panelFile = \"Data/Panel Data.xlsx\"\n",
    "\n",
    "glossaryUrl = \"https://www.energyinst.org/__data/assets/excel_doc/0020/1540505/Consolidated-Dataset-Narrow-Format-Glossary.xlsx\"\n",
    "glossaryFile = \"Data/Glossary.xlsx\"\n",
    "\n",
    "panelDataDowloader = DownloadSave(panelUrl, panelFile)\n",
    "panelData = panelDataDowloader.downloadSave()\n",
    "\n",
    "glossaryDownloader = DownloadSave(glossaryUrl, glossaryFile)\n",
    "glossaryData = glossaryDownloader.downloadSave()\n",
    "\n",
    "panelData.head()\n",
    "glossaryData"
   ]
  },
  {
   "cell_type": "markdown",
   "id": "b76a3fe7",
   "metadata": {},
   "source": [
    "### 3.0 Data Cleaning and Feature Engineering"
   ]
  },
  {
   "cell_type": "markdown",
   "id": "5acfcb5f",
   "metadata": {},
   "source": [
    "#### 3.1 Data Cleaning"
   ]
  },
  {
   "cell_type": "markdown",
   "id": "3cc7fed5",
   "metadata": {},
   "source": [
    "Most of the data cleaning process involves cleaning the 'Country' column from values that represented aggregate information for other countries and, thus, provided no additional information for our purposes. Therefore, these rows have been removed from the dataset.  \n",
    "Finally, a low number of missing values has been observed regarding carbon emissions and primary energy consumption columns. All missing values, including those in electricity production features, are preserved here, as possibly indicators of a country's specific energy policy or transition towards greener sources. In other words, missing information on coal electricity production for a specific country does not necessarily imply a defect in the data, but can be interpreted as the country transitioning towards other energy sources."
   ]
  },
  {
   "cell_type": "code",
   "execution_count": 5,
   "id": "412a5eff",
   "metadata": {},
   "outputs": [
    {
     "name": "stdout",
     "output_type": "stream",
     "text": [
      "                     Code                                           Variable  \\\n",
      "0       co2_combust_mtco2                      CO2 emissions from combustion   \n",
      "1          co2_combust_pc                      CO2 emissions from combustion   \n",
      "2      co2_combust_per_ej                                   Carbon intensity   \n",
      "3               co2_mtco2                               Total CO2 emissions    \n",
      "4               elect_twh                                        Electricity   \n",
      "5        electbyfuel_coal                   Electricity generation from coal   \n",
      "6         electbyfuel_gas                    Electricity generation from gas   \n",
      "7       electbyfuel_hydro                  Electricity generation from hydro   \n",
      "8     electbyfuel_nuclear                Electricity generation from nuclear   \n",
      "9         electbyfuel_oil                    Electricity generation from oil   \n",
      "10      electbyfuel_other                  Electricity generation from other   \n",
      "11  electbyfuel_ren_power             Electricity generation from renewables   \n",
      "12      electbyfuel_total                       Total electricity generation   \n",
      "13     primary_eintensity  Energy intensity (Primary energy consumption/GDP)   \n",
      "14             primary_ej                         Primary energy consumption   \n",
      "15          primary_ej_pc              Primary energy consumption per capita   \n",
      "16                Country        Name of each country, for 107 total nations   \n",
      "17                 Region            Region to which each country belongs to   \n",
      "18                   OPEC               1 if is an OPEC country, 0 otherwise   \n",
      "19                     EU                 1 if is an EU country, 0 otherwise   \n",
      "20                   OECD               1 if is an OECD country, 0 otherwise   \n",
      "21                    CIS                1 if is a CIS* country, 0 otherwise   \n",
      "\n",
      "                        Units  \n",
      "0      Million tonnes of CO2   \n",
      "1   CO2 combustion per capita  \n",
      "2           CO2 per exajoules  \n",
      "3      Million tonnes of CO2   \n",
      "4               Terawatt-hour  \n",
      "5               Terawatt-hour  \n",
      "6               Terawatt-hour  \n",
      "7               Terawatt-hour  \n",
      "8               Terawatt-hour  \n",
      "9               Terawatt-hour  \n",
      "10              Terawatt-hour  \n",
      "11              Terawatt-hour  \n",
      "12              Terawatt-hour  \n",
      "13                        NaN  \n",
      "14                  Exajoules  \n",
      "15       Exajoules per capita  \n",
      "16                          -  \n",
      "17                          -  \n",
      "18                          -  \n",
      "19                          -  \n",
      "20                          -  \n",
      "21                          -  \n",
      "*Note - CIS: Commonwealth of Independent States\n"
     ]
    }
   ],
   "source": [
    "# keep only relevant columns\n",
    "selectedColumns = ['Country', 'Year', 'Region', 'OPEC', 'EU', 'OECD', 'CIS',\n",
    "                   'co2_combust_mtco2', 'co2_combust_pc', 'co2_combust_per_ej', 'co2_mtco2', 'elect_twh']\n",
    "electByFuel = panelData.filter(like = \"electbyfuel\")\n",
    "primaryEnergyCons = panelData.filter(like = \"primary_\")\n",
    "panelDataFiltered = pd.concat([panelData[selectedColumns], electByFuel, primaryEnergyCons], axis = 1)\n",
    "\n",
    "glossaryData = glossaryData[glossaryData['Code'].isin(panelDataFiltered.columns.tolist())]\n",
    "newRows = [\n",
    "    {'Code':'Country', 'Variable':'Name of each country, for 107 total nations', 'Units':'-'},\n",
    "    {'Code':'Region', 'Variable':'Region to which each country belongs to', 'Units':'-'},\n",
    "    {'Code':'OPEC', 'Variable':'1 if is an OPEC country, 0 otherwise', 'Units':'-'},\n",
    "    {'Code':'EU', 'Variable':'1 if is an EU country, 0 otherwise', 'Units':'-'},\n",
    "    {'Code':'OECD', 'Variable':'1 if is an OECD country, 0 otherwise', 'Units':'-'},\n",
    "    {'Code':'CIS', 'Variable':'1 if is a CIS* country, 0 otherwise', 'Units':'-'}\n",
    "]\n",
    "newRows = pd.DataFrame(newRows)\n",
    "glossaryData = pd.concat([glossaryData, newRows], ignore_index = True)\n",
    "# print the list of features used in the analysis\n",
    "glossaryData.style.set_table_attributes('style=\"width:100%; display:block; overflow:auto;\"').set_table_styles([\n",
    "    {'selector': 'thead th', 'props': [('text-align', 'center')]},  # Center align headers\n",
    "    {'selector': 'tbody td', 'props': [('text-align', 'center')]},   # Center align data\n",
    "])\n",
    "\n",
    "print(glossaryData)\n",
    "print(\"*Note - CIS: Commonwealth of Independent States\")\n",
    "\n",
    "panelDataFiltered = panelDataFiltered[~panelDataFiltered['Country'].str.contains('^Total', na = False)]\n",
    "panelDataFiltered = panelDataFiltered[~panelDataFiltered['Country'].str.contains('^Other', na = False)]\n",
    "panelDataFiltered = panelDataFiltered[panelDataFiltered['Country'] != 'Rest of World']\n",
    "\n",
    "# Extract data as of 2023\n",
    "energyData = panelDataFiltered.copy()\n",
    "energyData = energyData[energyData['Year'] == 2023]\n",
    "\n",
    "# Create column for international organization\n",
    "condList = [energyData['OPEC'] == 1, energyData['EU'] == 1, \n",
    "            energyData['CIS'] == 1, energyData['OECD'] == 1]\n",
    "choiceList = ['OPEC', 'EU', 'CIS', 'OECD']\n",
    "energyData['InternationalOrganization'] = np.select(condList, choiceList, default = 'None')"
   ]
  },
  {
   "cell_type": "code",
   "execution_count": 6,
   "id": "c9c44f27",
   "metadata": {},
   "outputs": [
    {
     "name": "stdout",
     "output_type": "stream",
     "text": [
      "co2_combust_mtco2        6.701821\n",
      "elect_twh                6.590418\n",
      "co2_mtco2                6.298515\n",
      "primary_ej               6.136746\n",
      "electbyfuel_coal         4.996785\n",
      "electbyfuel_oil          4.698540\n",
      "electbyfuel_gas          4.642247\n",
      "electbyfuel_ren_power    4.267929\n",
      "electbyfuel_total        4.193242\n",
      "electbyfuel_hydro        3.943784\n",
      "CIS                      3.914198\n",
      "electbyfuel_other        3.275147\n",
      "co2_combust_pc           3.251153\n",
      "electbyfuel_nuclear      2.701736\n",
      "primary_eintensity       2.690109\n",
      "primary_ej_pc            2.354356\n",
      "OPEC                     2.350201\n",
      "EU                       1.215595\n",
      "OECD                     0.657687\n",
      "co2_combust_per_ej      -0.531039\n",
      "dtype: float64\n"
     ]
    }
   ],
   "source": [
    "# SKEWNESS AND OUTLIERS\n",
    "\n",
    "# Skewness of data\n",
    "numCols = energyData.select_dtypes(include = ['float64']).columns.tolist()\n",
    "print(energyData[numCols].skew().sort_values(ascending = False))\n",
    "\n",
    "transformer = TreatSkewedVariables(energyData, 0.75)\n",
    "energyDataTransformed = transformer.YeoJohnson()\n",
    "\n",
    "# While it is important to normalize the distributions in order to conduct meaningful statistical tests,\n",
    "# It is also important to preserve outliers, as they indicate which are the most relevant global polluters\n",
    "# One action that can be done is to look at the percentage contribution of each country to the global CO2 emissions"
   ]
  },
  {
   "cell_type": "code",
   "execution_count": 7,
   "id": "6844b353",
   "metadata": {},
   "outputs": [
    {
     "name": "stdout",
     "output_type": "stream",
     "text": [
      "                     Code                                Variable  \\\n",
      "5        electbyfuel_coal        Electricity generation from coal   \n",
      "6         electbyfuel_gas         Electricity generation from gas   \n",
      "7       electbyfuel_hydro       Electricity generation from hydro   \n",
      "8     electbyfuel_nuclear     Electricity generation from nuclear   \n",
      "9         electbyfuel_oil         Electricity generation from oil   \n",
      "10      electbyfuel_other       Electricity generation from other   \n",
      "11  electbyfuel_ren_power  Electricity generation from renewables   \n",
      "12      electbyfuel_total            Total electricity generation   \n",
      "\n",
      "            Units  \n",
      "5   Terawatt-hour  \n",
      "6   Terawatt-hour  \n",
      "7   Terawatt-hour  \n",
      "8   Terawatt-hour  \n",
      "9   Terawatt-hour  \n",
      "10  Terawatt-hour  \n",
      "11  Terawatt-hour  \n",
      "12  Terawatt-hour  \n",
      "<bound method IndexOpsMixin.tolist of Index(['electbyfuel_coal', 'electbyfuel_gas', 'electbyfuel_hydro',\n",
      "       'electbyfuel_nuclear', 'electbyfuel_oil', 'electbyfuel_other',\n",
      "       'electbyfuel_ren_power', 'electbyfuel_total', 'electbyfuel_coal_Unskew',\n",
      "       'electbyfuel_gas_Unskew', 'electbyfuel_hydro_Unskew',\n",
      "       'electbyfuel_nuclear_Unskew', 'electbyfuel_oil_Unskew',\n",
      "       'electbyfuel_other_Unskew', 'electbyfuel_ren_power_Unskew',\n",
      "       'electbyfuel_total_Unskew'],\n",
      "      dtype='object')>\n"
     ]
    }
   ],
   "source": [
    "# print(energyData.select_dtypes(include = 'float64').columns.tolist)\n",
    "print(glossaryData[glossaryData['Code'].isin(energyData.filter(like = 'electby').columns)])\n",
    "print(energyData.filter(like = 'electby').columns.tolist)\n",
    "globalCO2Emissions = energyData['co2_combust_mtco2'].sum()\n",
    "energyData['co2_perc_contr_total'] = energyData['co2_combust_mtco2']/globalCO2Emissions\n",
    "\n",
    "energyData['elect_fossil'] = energyData[['electbyfuel_coal','electbyfuel_gas','electbyfuel_oil']].sum(axis=1, numeric_only=True)\n",
    "energyData['elect_renew'] = energyData['electbyfuel_ren_power']\n",
    "energyData['elect_nuclear'] = energyData['electbyfuel_nuclear']\n",
    "energyData['elect_sustain'] = energyData[['electbyfuel_ren_power','electbyfuel_nuclear']].sum(axis=1, numeric_only=True)\n",
    "energyData['elect_other'] = energyData['electbyfuel_other']\n",
    "\n",
    "energyData['elect_fossil_Unskew'] = energyData[['electbyfuel_coal_Unskew', 'electbyfuel_gas_Unskew', 'electbyfuel_oil_Unskew']].sum(axis = 1, numeric_only = True)\n",
    "energyData['elect_nuclear_Unskew'] = energyData['electbyfuel_nuclear_Unskew']\n",
    "energyData['elect_renew_Unskew'] = energyData['electbyfuel_ren_power_Unskew']\n",
    "energyData['elect_other_Unskew'] = energyData['electbyfuel_other_Unskew']\n",
    "energyData['elect_sustain_Unskew'] = energyData[['elect_nuclear_Unskew', 'elect_renew_Unskew']].sum(axis = 1, numeric_only = True)\n",
    "\n",
    "electSources = ['elect_fossil', 'elect_renew', 'elect_nuclear', 'elect_sustain', 'elect_other']\n",
    "\n",
    "for col in electSources:\n",
    "    newCol = col + '_perc'\n",
    "    energyData[newCol] = energyData[col].div(energyData['electbyfuel_total'])\n",
    "    energyData[newCol + '_Unskew'] = energyData[col + '_Unskew'].div(energyData['electbyfuel_total_Unskew'])\n",
    "\n",
    "# What are the primary sources of energy of the world?\n",
    "energyData['co2_perc_Unskew'] = energyData['co2_combust_mtco2_Unskew']/energyData['co2_combust_mtco2_Unskew'].sum()\n"
   ]
  },
  {
   "cell_type": "markdown",
   "id": "91934994",
   "metadata": {},
   "source": [
    "### 4.0 Exploratory Data Analysis"
   ]
  },
  {
   "cell_type": "markdown",
   "id": "d3090f35",
   "metadata": {},
   "source": [
    "#### 4.1 Carbon emissions by region  \n",
    "In the plots below, the distribution of carbon emissions from combustion processes is presented, both in total million tons as well as per capita. Please note that China, India and United States have been excluded from the first two plots. This is because their values lie significantly above other countries that compressed remaining distributions, thus making the resulting plots less interpretable. Their distribution is presented in separate barplots.  \n",
    "The ___boxplots___ below evince the presence of outliers, despite the removal of three of the largest global emittors.  \n",
    "* For _total CO2 emissions_, outliers are mostly present for Asia Pacific, Europe and CIS.\n",
    "* For _per capita emissions_, outliers are mostly present for Asia Pacific, Europe and CIS.\n",
    "* Final observation that can be drawn from the boxplots below is the wider distribution of Middle East per capita emissions compared to its total emissions. This can be due to most of fossil fuels reserves being present in the Middle East, Russia and the US. This would imply higher emissions for Middle Eastern countries than other similar countries, without a significantly higher population."
   ]
  },
  {
   "cell_type": "code",
   "execution_count": 13,
   "id": "314a5aa5",
   "metadata": {},
   "outputs": [
    {
     "name": "stdout",
     "output_type": "stream",
     "text": [
      "electbyfuel_total    float64\n",
      "co2_combust_mtco2    float64\n",
      "dtype: object\n"
     ]
    }
   ],
   "source": [
    "print(energyData[['electbyfuel_total', 'co2_combust_mtco2']].dtypes)"
   ]
  },
  {
   "cell_type": "code",
   "execution_count": 21,
   "id": "1443dc0a",
   "metadata": {},
   "outputs": [
    {
     "data": {
      "application/vnd.plotly.v1+json": {
       "config": {
        "plotlyServerURL": "https://plot.ly"
       },
       "data": [
        {
         "hovertemplate": "electbyfuel_total=%{x}<br>co2_combust_mtco2=%{y}<extra></extra>",
         "legendgroup": "",
         "line": {
          "color": "#636efa",
          "dash": "solid"
         },
         "marker": {
          "symbol": "circle"
         },
         "mode": "lines",
         "name": "",
         "orientation": "v",
         "showlegend": false,
         "type": "scatter",
         "x": {
          "bdata": "KCnm9szYWUAxoN873D5cQCGwcmiRlV5AaOTVpdJNYkDfFbMEYqFkQFw4Tgnl4GRAWGZrZ2B5Z0DjA2/Lqs9nQGaSs3yphGtAzczMzMwMbEC0qEbAiJVwQI5Z9iSwEXFAX7pJDAJHcUAduLG3YKBxQG6kG0otonFAUiegibDZcUCgMTjhw4B0QDm0yHa+6XVA1rIaksstdkDLoUW28+13QDjKoI/YbXpAvMVDcHsNgEAqcMPUoj2AQCqhBxtjT4NA9NouvWbJg0AOLbKd7y+GQFhAe+MSqo9Ab/Wc9P5okkCcMXWi+JieQJ7Iji71jbFAH4XrUTh4wkAAAAAAAAD4fwAAAAAAAPh/AAAAAAAA+H8AAAAAAAD4fwAAAAAAAPh/AAAAAAAA+H8AAAAAAAD4fwAAAAAAAPh/AAAAAAAA+H8AAAAAAAD4fwAAAAAAAPh/AAAAAAAA+H8AAAAAAAD4fwAAAAAAAPh/AAAAAAAA+H8AAAAAAAD4fwAAAAAAAPh/AAAAAAAA+H8AAAAAAAD4fwAAAAAAAPh/AAAAAAAA+H8AAAAAAAD4fwAAAAAAAPh/AAAAAAAA+H8AAAAAAAD4fwAAAAAAAPh/AAAAAAAA+H8AAAAAAAD4fwAAAAAAAPh/AAAAAAAA+H8AAAAAAAD4fwAAAAAAAPh/AAAAAAAA+H8AAAAAAAD4fwAAAAAAAPh/AAAAAAAA+H8AAAAAAAD4fwAAAAAAAPh/AAAAAAAA+H8AAAAAAAD4fwAAAAAAAPh/AAAAAAAA+H8AAAAAAAD4fwAAAAAAAPh/AAAAAAAA+H8AAAAAAAD4fwAAAAAAAPh/AAAAAAAA+H8AAAAAAAD4fwAAAAAAAPh/AAAAAAAA+H8AAAAAAAD4fwAAAAAAAPh/AAAAAAAA+H8AAAAAAAD4fwAAAAAAAPh/AAAAAAAA+H8AAAAAAAD4fwAAAAAAAPh/AAAAAAAA+H8AAAAAAAD4fwAAAAAAAPh/AAAAAAAA+H8AAAAAAAD4fwAAAAAAAPh/AAAAAAAA+H8AAAAAAAD4fwAAAAAAAPh/AAAAAAAA+H8AAAAAAAD4fwAAAAAAAPh/AAAAAAAA+H8AAAAAAAD4fwAAAAAAAPh/AAAAAAAA+H8AAAAAAAD4fw==",
          "dtype": "f8"
         },
         "xaxis": "x",
         "y": {
          "bdata": "AACYxLtUWkAAQK4k0qRrQACATn4/gmNAAEBe8mLdZ0AAAEClyvJxQABAg7mF5HBAAAAUlaHKcUCAS1MKU9twQAAAEGRnAm1AANLtXLGQekAAjTTYetRyQAAQC9XzgXdAAIASUYkWc0AAlM3DltluQADALLE9mHBAAJBx/990dEAAQF35n7F5QAAwinhk64VAAFvxAO6dfkAAUB47H12FQAAAtNBKY4NAAI56k97egUAAADR34NFvQAAAwMe82YFAAMCjWww8gEAAwFhayDB8QMAqSPBDpo9AAACAQ+86mUAAALSipfylQACw9F61H7JAAACZ+i/pxUAAAICrVxViQAAAAAAAAPh/AOjwZVfmSkAAcGAo8jVFQAAAAAAAAPh/AADQSHGNXUAAAHOTRD9KQABAPqKl0VlAAAAAAAAA+H8AAAAAAAD4fwD+wbkDwEFAAAAAAAAA+H8AoCsaeZ5VQAAA1nH1eFBAAACS4EGNW0AAABE4b+ovQAAAAAAAAPh/AAAAAAAA+H8AAAAnHpgeQAAAy3iYuFRAAAAAAAAA+H8AAJJFGnI8QAAAYmGBHEVAAAAAAAAA+H8AAIApIAguQAAA9vaSsj9AAAAAAAAA+H8AgH3LAa5NQAAAAAAAAPh/AMBYZKSMQ0AAALSFdpgDQAAAgFIpB2VAAGAnuRf6QEAAAOPPl2BQQAAAwPHye1dAAACALNAdGkAAAAAAAAD4fwAApkZiaCdAAABpoDqMIEAAAAAAAAD4fwAAAAAAAPh/AAAlJ+JGUUAAAAAAAAD4fwAAAAAAAPh/AAAAAAAA+H8AAPhrMbo/QAAAAAAAAPh/AABALWhyIEAAAA4qcAFBQAAAxu4xR1VAgLWKqhOyZ0AAAAAAAAD4fwAwNU+Lu01AAADoSX0SY0AAwM0HHd9DQAAAypk1kGBAAAAAAAAA+H8AQOs7Te9NQAAAAAAAAPh/AEBot0MMbEAAAABLyKA7QABA3PBOxCRAAAAAAAAA+H8AAKCuuCE1QAAAAAAAAPh/AABsAlvgQUAAgISBbl1AQAAAAAAAAPh/AAAA6o5bLkAAAAAAAAD4fwAAgIFhd1dAAGDGC34EXkAAAKjhPDZeQAAAAAAAAPh/AAAAAAAA+H8AAAAAAAD4fw==",
          "dtype": "f8"
         },
         "yaxis": "y"
        }
       ],
       "layout": {
        "legend": {
         "tracegroupgap": 0
        },
        "margin": {
         "t": 60
        },
        "template": {
         "data": {
          "bar": [
           {
            "error_x": {
             "color": "#2a3f5f"
            },
            "error_y": {
             "color": "#2a3f5f"
            },
            "marker": {
             "line": {
              "color": "white",
              "width": 0.5
             },
             "pattern": {
              "fillmode": "overlay",
              "size": 10,
              "solidity": 0.2
             }
            },
            "type": "bar"
           }
          ],
          "barpolar": [
           {
            "marker": {
             "line": {
              "color": "white",
              "width": 0.5
             },
             "pattern": {
              "fillmode": "overlay",
              "size": 10,
              "solidity": 0.2
             }
            },
            "type": "barpolar"
           }
          ],
          "carpet": [
           {
            "aaxis": {
             "endlinecolor": "#2a3f5f",
             "gridcolor": "#C8D4E3",
             "linecolor": "#C8D4E3",
             "minorgridcolor": "#C8D4E3",
             "startlinecolor": "#2a3f5f"
            },
            "baxis": {
             "endlinecolor": "#2a3f5f",
             "gridcolor": "#C8D4E3",
             "linecolor": "#C8D4E3",
             "minorgridcolor": "#C8D4E3",
             "startlinecolor": "#2a3f5f"
            },
            "type": "carpet"
           }
          ],
          "choropleth": [
           {
            "colorbar": {
             "outlinewidth": 0,
             "ticks": ""
            },
            "type": "choropleth"
           }
          ],
          "contour": [
           {
            "colorbar": {
             "outlinewidth": 0,
             "ticks": ""
            },
            "colorscale": [
             [
              0,
              "#0d0887"
             ],
             [
              0.1111111111111111,
              "#46039f"
             ],
             [
              0.2222222222222222,
              "#7201a8"
             ],
             [
              0.3333333333333333,
              "#9c179e"
             ],
             [
              0.4444444444444444,
              "#bd3786"
             ],
             [
              0.5555555555555556,
              "#d8576b"
             ],
             [
              0.6666666666666666,
              "#ed7953"
             ],
             [
              0.7777777777777778,
              "#fb9f3a"
             ],
             [
              0.8888888888888888,
              "#fdca26"
             ],
             [
              1,
              "#f0f921"
             ]
            ],
            "type": "contour"
           }
          ],
          "contourcarpet": [
           {
            "colorbar": {
             "outlinewidth": 0,
             "ticks": ""
            },
            "type": "contourcarpet"
           }
          ],
          "heatmap": [
           {
            "colorbar": {
             "outlinewidth": 0,
             "ticks": ""
            },
            "colorscale": [
             [
              0,
              "#0d0887"
             ],
             [
              0.1111111111111111,
              "#46039f"
             ],
             [
              0.2222222222222222,
              "#7201a8"
             ],
             [
              0.3333333333333333,
              "#9c179e"
             ],
             [
              0.4444444444444444,
              "#bd3786"
             ],
             [
              0.5555555555555556,
              "#d8576b"
             ],
             [
              0.6666666666666666,
              "#ed7953"
             ],
             [
              0.7777777777777778,
              "#fb9f3a"
             ],
             [
              0.8888888888888888,
              "#fdca26"
             ],
             [
              1,
              "#f0f921"
             ]
            ],
            "type": "heatmap"
           }
          ],
          "histogram": [
           {
            "marker": {
             "pattern": {
              "fillmode": "overlay",
              "size": 10,
              "solidity": 0.2
             }
            },
            "type": "histogram"
           }
          ],
          "histogram2d": [
           {
            "colorbar": {
             "outlinewidth": 0,
             "ticks": ""
            },
            "colorscale": [
             [
              0,
              "#0d0887"
             ],
             [
              0.1111111111111111,
              "#46039f"
             ],
             [
              0.2222222222222222,
              "#7201a8"
             ],
             [
              0.3333333333333333,
              "#9c179e"
             ],
             [
              0.4444444444444444,
              "#bd3786"
             ],
             [
              0.5555555555555556,
              "#d8576b"
             ],
             [
              0.6666666666666666,
              "#ed7953"
             ],
             [
              0.7777777777777778,
              "#fb9f3a"
             ],
             [
              0.8888888888888888,
              "#fdca26"
             ],
             [
              1,
              "#f0f921"
             ]
            ],
            "type": "histogram2d"
           }
          ],
          "histogram2dcontour": [
           {
            "colorbar": {
             "outlinewidth": 0,
             "ticks": ""
            },
            "colorscale": [
             [
              0,
              "#0d0887"
             ],
             [
              0.1111111111111111,
              "#46039f"
             ],
             [
              0.2222222222222222,
              "#7201a8"
             ],
             [
              0.3333333333333333,
              "#9c179e"
             ],
             [
              0.4444444444444444,
              "#bd3786"
             ],
             [
              0.5555555555555556,
              "#d8576b"
             ],
             [
              0.6666666666666666,
              "#ed7953"
             ],
             [
              0.7777777777777778,
              "#fb9f3a"
             ],
             [
              0.8888888888888888,
              "#fdca26"
             ],
             [
              1,
              "#f0f921"
             ]
            ],
            "type": "histogram2dcontour"
           }
          ],
          "mesh3d": [
           {
            "colorbar": {
             "outlinewidth": 0,
             "ticks": ""
            },
            "type": "mesh3d"
           }
          ],
          "parcoords": [
           {
            "line": {
             "colorbar": {
              "outlinewidth": 0,
              "ticks": ""
             }
            },
            "type": "parcoords"
           }
          ],
          "pie": [
           {
            "automargin": true,
            "type": "pie"
           }
          ],
          "scatter": [
           {
            "fillpattern": {
             "fillmode": "overlay",
             "size": 10,
             "solidity": 0.2
            },
            "type": "scatter"
           }
          ],
          "scatter3d": [
           {
            "line": {
             "colorbar": {
              "outlinewidth": 0,
              "ticks": ""
             }
            },
            "marker": {
             "colorbar": {
              "outlinewidth": 0,
              "ticks": ""
             }
            },
            "type": "scatter3d"
           }
          ],
          "scattercarpet": [
           {
            "marker": {
             "colorbar": {
              "outlinewidth": 0,
              "ticks": ""
             }
            },
            "type": "scattercarpet"
           }
          ],
          "scattergeo": [
           {
            "marker": {
             "colorbar": {
              "outlinewidth": 0,
              "ticks": ""
             }
            },
            "type": "scattergeo"
           }
          ],
          "scattergl": [
           {
            "marker": {
             "colorbar": {
              "outlinewidth": 0,
              "ticks": ""
             }
            },
            "type": "scattergl"
           }
          ],
          "scattermap": [
           {
            "marker": {
             "colorbar": {
              "outlinewidth": 0,
              "ticks": ""
             }
            },
            "type": "scattermap"
           }
          ],
          "scattermapbox": [
           {
            "marker": {
             "colorbar": {
              "outlinewidth": 0,
              "ticks": ""
             }
            },
            "type": "scattermapbox"
           }
          ],
          "scatterpolar": [
           {
            "marker": {
             "colorbar": {
              "outlinewidth": 0,
              "ticks": ""
             }
            },
            "type": "scatterpolar"
           }
          ],
          "scatterpolargl": [
           {
            "marker": {
             "colorbar": {
              "outlinewidth": 0,
              "ticks": ""
             }
            },
            "type": "scatterpolargl"
           }
          ],
          "scatterternary": [
           {
            "marker": {
             "colorbar": {
              "outlinewidth": 0,
              "ticks": ""
             }
            },
            "type": "scatterternary"
           }
          ],
          "surface": [
           {
            "colorbar": {
             "outlinewidth": 0,
             "ticks": ""
            },
            "colorscale": [
             [
              0,
              "#0d0887"
             ],
             [
              0.1111111111111111,
              "#46039f"
             ],
             [
              0.2222222222222222,
              "#7201a8"
             ],
             [
              0.3333333333333333,
              "#9c179e"
             ],
             [
              0.4444444444444444,
              "#bd3786"
             ],
             [
              0.5555555555555556,
              "#d8576b"
             ],
             [
              0.6666666666666666,
              "#ed7953"
             ],
             [
              0.7777777777777778,
              "#fb9f3a"
             ],
             [
              0.8888888888888888,
              "#fdca26"
             ],
             [
              1,
              "#f0f921"
             ]
            ],
            "type": "surface"
           }
          ],
          "table": [
           {
            "cells": {
             "fill": {
              "color": "#EBF0F8"
             },
             "line": {
              "color": "white"
             }
            },
            "header": {
             "fill": {
              "color": "#C8D4E3"
             },
             "line": {
              "color": "white"
             }
            },
            "type": "table"
           }
          ]
         },
         "layout": {
          "annotationdefaults": {
           "arrowcolor": "#2a3f5f",
           "arrowhead": 0,
           "arrowwidth": 1
          },
          "autotypenumbers": "strict",
          "coloraxis": {
           "colorbar": {
            "outlinewidth": 0,
            "ticks": ""
           }
          },
          "colorscale": {
           "diverging": [
            [
             0,
             "#8e0152"
            ],
            [
             0.1,
             "#c51b7d"
            ],
            [
             0.2,
             "#de77ae"
            ],
            [
             0.3,
             "#f1b6da"
            ],
            [
             0.4,
             "#fde0ef"
            ],
            [
             0.5,
             "#f7f7f7"
            ],
            [
             0.6,
             "#e6f5d0"
            ],
            [
             0.7,
             "#b8e186"
            ],
            [
             0.8,
             "#7fbc41"
            ],
            [
             0.9,
             "#4d9221"
            ],
            [
             1,
             "#276419"
            ]
           ],
           "sequential": [
            [
             0,
             "#0d0887"
            ],
            [
             0.1111111111111111,
             "#46039f"
            ],
            [
             0.2222222222222222,
             "#7201a8"
            ],
            [
             0.3333333333333333,
             "#9c179e"
            ],
            [
             0.4444444444444444,
             "#bd3786"
            ],
            [
             0.5555555555555556,
             "#d8576b"
            ],
            [
             0.6666666666666666,
             "#ed7953"
            ],
            [
             0.7777777777777778,
             "#fb9f3a"
            ],
            [
             0.8888888888888888,
             "#fdca26"
            ],
            [
             1,
             "#f0f921"
            ]
           ],
           "sequentialminus": [
            [
             0,
             "#0d0887"
            ],
            [
             0.1111111111111111,
             "#46039f"
            ],
            [
             0.2222222222222222,
             "#7201a8"
            ],
            [
             0.3333333333333333,
             "#9c179e"
            ],
            [
             0.4444444444444444,
             "#bd3786"
            ],
            [
             0.5555555555555556,
             "#d8576b"
            ],
            [
             0.6666666666666666,
             "#ed7953"
            ],
            [
             0.7777777777777778,
             "#fb9f3a"
            ],
            [
             0.8888888888888888,
             "#fdca26"
            ],
            [
             1,
             "#f0f921"
            ]
           ]
          },
          "colorway": [
           "#636efa",
           "#EF553B",
           "#00cc96",
           "#ab63fa",
           "#FFA15A",
           "#19d3f3",
           "#FF6692",
           "#B6E880",
           "#FF97FF",
           "#FECB52"
          ],
          "font": {
           "color": "#2a3f5f"
          },
          "geo": {
           "bgcolor": "white",
           "lakecolor": "white",
           "landcolor": "white",
           "showlakes": true,
           "showland": true,
           "subunitcolor": "#C8D4E3"
          },
          "hoverlabel": {
           "align": "left"
          },
          "hovermode": "closest",
          "mapbox": {
           "style": "light"
          },
          "paper_bgcolor": "white",
          "plot_bgcolor": "white",
          "polar": {
           "angularaxis": {
            "gridcolor": "#EBF0F8",
            "linecolor": "#EBF0F8",
            "ticks": ""
           },
           "bgcolor": "white",
           "radialaxis": {
            "gridcolor": "#EBF0F8",
            "linecolor": "#EBF0F8",
            "ticks": ""
           }
          },
          "scene": {
           "xaxis": {
            "backgroundcolor": "white",
            "gridcolor": "#DFE8F3",
            "gridwidth": 2,
            "linecolor": "#EBF0F8",
            "showbackground": true,
            "ticks": "",
            "zerolinecolor": "#EBF0F8"
           },
           "yaxis": {
            "backgroundcolor": "white",
            "gridcolor": "#DFE8F3",
            "gridwidth": 2,
            "linecolor": "#EBF0F8",
            "showbackground": true,
            "ticks": "",
            "zerolinecolor": "#EBF0F8"
           },
           "zaxis": {
            "backgroundcolor": "white",
            "gridcolor": "#DFE8F3",
            "gridwidth": 2,
            "linecolor": "#EBF0F8",
            "showbackground": true,
            "ticks": "",
            "zerolinecolor": "#EBF0F8"
           }
          },
          "shapedefaults": {
           "line": {
            "color": "#2a3f5f"
           }
          },
          "ternary": {
           "aaxis": {
            "gridcolor": "#DFE8F3",
            "linecolor": "#A2B1C6",
            "ticks": ""
           },
           "baxis": {
            "gridcolor": "#DFE8F3",
            "linecolor": "#A2B1C6",
            "ticks": ""
           },
           "bgcolor": "white",
           "caxis": {
            "gridcolor": "#DFE8F3",
            "linecolor": "#A2B1C6",
            "ticks": ""
           }
          },
          "title": {
           "x": 0.05
          },
          "xaxis": {
           "automargin": true,
           "gridcolor": "#EBF0F8",
           "linecolor": "#EBF0F8",
           "ticks": "",
           "title": {
            "standoff": 15
           },
           "zerolinecolor": "#EBF0F8",
           "zerolinewidth": 2
          },
          "yaxis": {
           "automargin": true,
           "gridcolor": "#EBF0F8",
           "linecolor": "#EBF0F8",
           "ticks": "",
           "title": {
            "standoff": 15
           },
           "zerolinecolor": "#EBF0F8",
           "zerolinewidth": 2
          }
         }
        },
        "xaxis": {
         "anchor": "y",
         "domain": [
          0,
          1
         ],
         "title": {
          "text": "electbyfuel_total"
         }
        },
        "yaxis": {
         "anchor": "x",
         "domain": [
          0,
          1
         ],
         "title": {
          "text": "co2_combust_mtco2"
         }
        }
       }
      }
     },
     "metadata": {},
     "output_type": "display_data"
    },
    {
     "data": {
      "application/vnd.plotly.v1+json": {
       "config": {
        "plotlyServerURL": "https://plot.ly"
       },
       "data": [
        {
         "hovertemplate": "electbyfuel_total=%{x}<br>co2_combust_mtco2=%{y}<extra></extra>",
         "legendgroup": "",
         "marker": {
          "color": "#636efa",
          "symbol": "circle"
         },
         "mode": "markers",
         "name": "",
         "orientation": "v",
         "showlegend": false,
         "type": "scatter",
         "x": {
          "bdata": "KCnm9szYWUAxoN873D5cQCGwcmiRlV5AaOTVpdJNYkDfFbMEYqFkQFw4Tgnl4GRAWGZrZ2B5Z0DjA2/Lqs9nQGaSs3yphGtAzczMzMwMbEC0qEbAiJVwQI5Z9iSwEXFAX7pJDAJHcUAduLG3YKBxQG6kG0otonFAUiegibDZcUCgMTjhw4B0QDm0yHa+6XVA1rIaksstdkDLoUW28+13QDjKoI/YbXpAvMVDcHsNgEAqcMPUoj2AQCqhBxtjT4NA9NouvWbJg0AOLbKd7y+GQFhAe+MSqo9Ab/Wc9P5okkCcMXWi+JieQJ7Iji71jbFAH4XrUTh4wkAAAAAAAAD4fwAAAAAAAPh/AAAAAAAA+H8AAAAAAAD4fwAAAAAAAPh/AAAAAAAA+H8AAAAAAAD4fwAAAAAAAPh/AAAAAAAA+H8AAAAAAAD4fwAAAAAAAPh/AAAAAAAA+H8AAAAAAAD4fwAAAAAAAPh/AAAAAAAA+H8AAAAAAAD4fwAAAAAAAPh/AAAAAAAA+H8AAAAAAAD4fwAAAAAAAPh/AAAAAAAA+H8AAAAAAAD4fwAAAAAAAPh/AAAAAAAA+H8AAAAAAAD4fwAAAAAAAPh/AAAAAAAA+H8AAAAAAAD4fwAAAAAAAPh/AAAAAAAA+H8AAAAAAAD4fwAAAAAAAPh/AAAAAAAA+H8AAAAAAAD4fwAAAAAAAPh/AAAAAAAA+H8AAAAAAAD4fwAAAAAAAPh/AAAAAAAA+H8AAAAAAAD4fwAAAAAAAPh/AAAAAAAA+H8AAAAAAAD4fwAAAAAAAPh/AAAAAAAA+H8AAAAAAAD4fwAAAAAAAPh/AAAAAAAA+H8AAAAAAAD4fwAAAAAAAPh/AAAAAAAA+H8AAAAAAAD4fwAAAAAAAPh/AAAAAAAA+H8AAAAAAAD4fwAAAAAAAPh/AAAAAAAA+H8AAAAAAAD4fwAAAAAAAPh/AAAAAAAA+H8AAAAAAAD4fwAAAAAAAPh/AAAAAAAA+H8AAAAAAAD4fwAAAAAAAPh/AAAAAAAA+H8AAAAAAAD4fwAAAAAAAPh/AAAAAAAA+H8AAAAAAAD4fwAAAAAAAPh/AAAAAAAA+H8AAAAAAAD4fwAAAAAAAPh/AAAAAAAA+H8AAAAAAAD4fw==",
          "dtype": "f8"
         },
         "xaxis": "x",
         "y": {
          "bdata": "AACYxLtUWkAAQK4k0qRrQACATn4/gmNAAEBe8mLdZ0AAAEClyvJxQABAg7mF5HBAAAAUlaHKcUCAS1MKU9twQAAAEGRnAm1AANLtXLGQekAAjTTYetRyQAAQC9XzgXdAAIASUYkWc0AAlM3DltluQADALLE9mHBAAJBx/990dEAAQF35n7F5QAAwinhk64VAAFvxAO6dfkAAUB47H12FQAAAtNBKY4NAAI56k97egUAAADR34NFvQAAAwMe82YFAAMCjWww8gEAAwFhayDB8QMAqSPBDpo9AAACAQ+86mUAAALSipfylQACw9F61H7JAAACZ+i/pxUAAAICrVxViQAAAAAAAAPh/AOjwZVfmSkAAcGAo8jVFQAAAAAAAAPh/AADQSHGNXUAAAHOTRD9KQABAPqKl0VlAAAAAAAAA+H8AAAAAAAD4fwD+wbkDwEFAAAAAAAAA+H8AoCsaeZ5VQAAA1nH1eFBAAACS4EGNW0AAABE4b+ovQAAAAAAAAPh/AAAAAAAA+H8AAAAnHpgeQAAAy3iYuFRAAAAAAAAA+H8AAJJFGnI8QAAAYmGBHEVAAAAAAAAA+H8AAIApIAguQAAA9vaSsj9AAAAAAAAA+H8AgH3LAa5NQAAAAAAAAPh/AMBYZKSMQ0AAALSFdpgDQAAAgFIpB2VAAGAnuRf6QEAAAOPPl2BQQAAAwPHye1dAAACALNAdGkAAAAAAAAD4fwAApkZiaCdAAABpoDqMIEAAAAAAAAD4fwAAAAAAAPh/AAAlJ+JGUUAAAAAAAAD4fwAAAAAAAPh/AAAAAAAA+H8AAPhrMbo/QAAAAAAAAPh/AABALWhyIEAAAA4qcAFBQAAAxu4xR1VAgLWKqhOyZ0AAAAAAAAD4fwAwNU+Lu01AAADoSX0SY0AAwM0HHd9DQAAAypk1kGBAAAAAAAAA+H8AQOs7Te9NQAAAAAAAAPh/AEBot0MMbEAAAABLyKA7QABA3PBOxCRAAAAAAAAA+H8AAKCuuCE1QAAAAAAAAPh/AABsAlvgQUAAgISBbl1AQAAAAAAAAPh/AAAA6o5bLkAAAAAAAAD4fwAAgIFhd1dAAGDGC34EXkAAAKjhPDZeQAAAAAAAAPh/AAAAAAAA+H8AAAAAAAD4fw==",
          "dtype": "f8"
         },
         "yaxis": "y"
        }
       ],
       "layout": {
        "legend": {
         "tracegroupgap": 0
        },
        "margin": {
         "t": 60
        },
        "template": {
         "data": {
          "bar": [
           {
            "error_x": {
             "color": "#2a3f5f"
            },
            "error_y": {
             "color": "#2a3f5f"
            },
            "marker": {
             "line": {
              "color": "white",
              "width": 0.5
             },
             "pattern": {
              "fillmode": "overlay",
              "size": 10,
              "solidity": 0.2
             }
            },
            "type": "bar"
           }
          ],
          "barpolar": [
           {
            "marker": {
             "line": {
              "color": "white",
              "width": 0.5
             },
             "pattern": {
              "fillmode": "overlay",
              "size": 10,
              "solidity": 0.2
             }
            },
            "type": "barpolar"
           }
          ],
          "carpet": [
           {
            "aaxis": {
             "endlinecolor": "#2a3f5f",
             "gridcolor": "#C8D4E3",
             "linecolor": "#C8D4E3",
             "minorgridcolor": "#C8D4E3",
             "startlinecolor": "#2a3f5f"
            },
            "baxis": {
             "endlinecolor": "#2a3f5f",
             "gridcolor": "#C8D4E3",
             "linecolor": "#C8D4E3",
             "minorgridcolor": "#C8D4E3",
             "startlinecolor": "#2a3f5f"
            },
            "type": "carpet"
           }
          ],
          "choropleth": [
           {
            "colorbar": {
             "outlinewidth": 0,
             "ticks": ""
            },
            "type": "choropleth"
           }
          ],
          "contour": [
           {
            "colorbar": {
             "outlinewidth": 0,
             "ticks": ""
            },
            "colorscale": [
             [
              0,
              "#0d0887"
             ],
             [
              0.1111111111111111,
              "#46039f"
             ],
             [
              0.2222222222222222,
              "#7201a8"
             ],
             [
              0.3333333333333333,
              "#9c179e"
             ],
             [
              0.4444444444444444,
              "#bd3786"
             ],
             [
              0.5555555555555556,
              "#d8576b"
             ],
             [
              0.6666666666666666,
              "#ed7953"
             ],
             [
              0.7777777777777778,
              "#fb9f3a"
             ],
             [
              0.8888888888888888,
              "#fdca26"
             ],
             [
              1,
              "#f0f921"
             ]
            ],
            "type": "contour"
           }
          ],
          "contourcarpet": [
           {
            "colorbar": {
             "outlinewidth": 0,
             "ticks": ""
            },
            "type": "contourcarpet"
           }
          ],
          "heatmap": [
           {
            "colorbar": {
             "outlinewidth": 0,
             "ticks": ""
            },
            "colorscale": [
             [
              0,
              "#0d0887"
             ],
             [
              0.1111111111111111,
              "#46039f"
             ],
             [
              0.2222222222222222,
              "#7201a8"
             ],
             [
              0.3333333333333333,
              "#9c179e"
             ],
             [
              0.4444444444444444,
              "#bd3786"
             ],
             [
              0.5555555555555556,
              "#d8576b"
             ],
             [
              0.6666666666666666,
              "#ed7953"
             ],
             [
              0.7777777777777778,
              "#fb9f3a"
             ],
             [
              0.8888888888888888,
              "#fdca26"
             ],
             [
              1,
              "#f0f921"
             ]
            ],
            "type": "heatmap"
           }
          ],
          "histogram": [
           {
            "marker": {
             "pattern": {
              "fillmode": "overlay",
              "size": 10,
              "solidity": 0.2
             }
            },
            "type": "histogram"
           }
          ],
          "histogram2d": [
           {
            "colorbar": {
             "outlinewidth": 0,
             "ticks": ""
            },
            "colorscale": [
             [
              0,
              "#0d0887"
             ],
             [
              0.1111111111111111,
              "#46039f"
             ],
             [
              0.2222222222222222,
              "#7201a8"
             ],
             [
              0.3333333333333333,
              "#9c179e"
             ],
             [
              0.4444444444444444,
              "#bd3786"
             ],
             [
              0.5555555555555556,
              "#d8576b"
             ],
             [
              0.6666666666666666,
              "#ed7953"
             ],
             [
              0.7777777777777778,
              "#fb9f3a"
             ],
             [
              0.8888888888888888,
              "#fdca26"
             ],
             [
              1,
              "#f0f921"
             ]
            ],
            "type": "histogram2d"
           }
          ],
          "histogram2dcontour": [
           {
            "colorbar": {
             "outlinewidth": 0,
             "ticks": ""
            },
            "colorscale": [
             [
              0,
              "#0d0887"
             ],
             [
              0.1111111111111111,
              "#46039f"
             ],
             [
              0.2222222222222222,
              "#7201a8"
             ],
             [
              0.3333333333333333,
              "#9c179e"
             ],
             [
              0.4444444444444444,
              "#bd3786"
             ],
             [
              0.5555555555555556,
              "#d8576b"
             ],
             [
              0.6666666666666666,
              "#ed7953"
             ],
             [
              0.7777777777777778,
              "#fb9f3a"
             ],
             [
              0.8888888888888888,
              "#fdca26"
             ],
             [
              1,
              "#f0f921"
             ]
            ],
            "type": "histogram2dcontour"
           }
          ],
          "mesh3d": [
           {
            "colorbar": {
             "outlinewidth": 0,
             "ticks": ""
            },
            "type": "mesh3d"
           }
          ],
          "parcoords": [
           {
            "line": {
             "colorbar": {
              "outlinewidth": 0,
              "ticks": ""
             }
            },
            "type": "parcoords"
           }
          ],
          "pie": [
           {
            "automargin": true,
            "type": "pie"
           }
          ],
          "scatter": [
           {
            "fillpattern": {
             "fillmode": "overlay",
             "size": 10,
             "solidity": 0.2
            },
            "type": "scatter"
           }
          ],
          "scatter3d": [
           {
            "line": {
             "colorbar": {
              "outlinewidth": 0,
              "ticks": ""
             }
            },
            "marker": {
             "colorbar": {
              "outlinewidth": 0,
              "ticks": ""
             }
            },
            "type": "scatter3d"
           }
          ],
          "scattercarpet": [
           {
            "marker": {
             "colorbar": {
              "outlinewidth": 0,
              "ticks": ""
             }
            },
            "type": "scattercarpet"
           }
          ],
          "scattergeo": [
           {
            "marker": {
             "colorbar": {
              "outlinewidth": 0,
              "ticks": ""
             }
            },
            "type": "scattergeo"
           }
          ],
          "scattergl": [
           {
            "marker": {
             "colorbar": {
              "outlinewidth": 0,
              "ticks": ""
             }
            },
            "type": "scattergl"
           }
          ],
          "scattermap": [
           {
            "marker": {
             "colorbar": {
              "outlinewidth": 0,
              "ticks": ""
             }
            },
            "type": "scattermap"
           }
          ],
          "scattermapbox": [
           {
            "marker": {
             "colorbar": {
              "outlinewidth": 0,
              "ticks": ""
             }
            },
            "type": "scattermapbox"
           }
          ],
          "scatterpolar": [
           {
            "marker": {
             "colorbar": {
              "outlinewidth": 0,
              "ticks": ""
             }
            },
            "type": "scatterpolar"
           }
          ],
          "scatterpolargl": [
           {
            "marker": {
             "colorbar": {
              "outlinewidth": 0,
              "ticks": ""
             }
            },
            "type": "scatterpolargl"
           }
          ],
          "scatterternary": [
           {
            "marker": {
             "colorbar": {
              "outlinewidth": 0,
              "ticks": ""
             }
            },
            "type": "scatterternary"
           }
          ],
          "surface": [
           {
            "colorbar": {
             "outlinewidth": 0,
             "ticks": ""
            },
            "colorscale": [
             [
              0,
              "#0d0887"
             ],
             [
              0.1111111111111111,
              "#46039f"
             ],
             [
              0.2222222222222222,
              "#7201a8"
             ],
             [
              0.3333333333333333,
              "#9c179e"
             ],
             [
              0.4444444444444444,
              "#bd3786"
             ],
             [
              0.5555555555555556,
              "#d8576b"
             ],
             [
              0.6666666666666666,
              "#ed7953"
             ],
             [
              0.7777777777777778,
              "#fb9f3a"
             ],
             [
              0.8888888888888888,
              "#fdca26"
             ],
             [
              1,
              "#f0f921"
             ]
            ],
            "type": "surface"
           }
          ],
          "table": [
           {
            "cells": {
             "fill": {
              "color": "#EBF0F8"
             },
             "line": {
              "color": "white"
             }
            },
            "header": {
             "fill": {
              "color": "#C8D4E3"
             },
             "line": {
              "color": "white"
             }
            },
            "type": "table"
           }
          ]
         },
         "layout": {
          "annotationdefaults": {
           "arrowcolor": "#2a3f5f",
           "arrowhead": 0,
           "arrowwidth": 1
          },
          "autotypenumbers": "strict",
          "coloraxis": {
           "colorbar": {
            "outlinewidth": 0,
            "ticks": ""
           }
          },
          "colorscale": {
           "diverging": [
            [
             0,
             "#8e0152"
            ],
            [
             0.1,
             "#c51b7d"
            ],
            [
             0.2,
             "#de77ae"
            ],
            [
             0.3,
             "#f1b6da"
            ],
            [
             0.4,
             "#fde0ef"
            ],
            [
             0.5,
             "#f7f7f7"
            ],
            [
             0.6,
             "#e6f5d0"
            ],
            [
             0.7,
             "#b8e186"
            ],
            [
             0.8,
             "#7fbc41"
            ],
            [
             0.9,
             "#4d9221"
            ],
            [
             1,
             "#276419"
            ]
           ],
           "sequential": [
            [
             0,
             "#0d0887"
            ],
            [
             0.1111111111111111,
             "#46039f"
            ],
            [
             0.2222222222222222,
             "#7201a8"
            ],
            [
             0.3333333333333333,
             "#9c179e"
            ],
            [
             0.4444444444444444,
             "#bd3786"
            ],
            [
             0.5555555555555556,
             "#d8576b"
            ],
            [
             0.6666666666666666,
             "#ed7953"
            ],
            [
             0.7777777777777778,
             "#fb9f3a"
            ],
            [
             0.8888888888888888,
             "#fdca26"
            ],
            [
             1,
             "#f0f921"
            ]
           ],
           "sequentialminus": [
            [
             0,
             "#0d0887"
            ],
            [
             0.1111111111111111,
             "#46039f"
            ],
            [
             0.2222222222222222,
             "#7201a8"
            ],
            [
             0.3333333333333333,
             "#9c179e"
            ],
            [
             0.4444444444444444,
             "#bd3786"
            ],
            [
             0.5555555555555556,
             "#d8576b"
            ],
            [
             0.6666666666666666,
             "#ed7953"
            ],
            [
             0.7777777777777778,
             "#fb9f3a"
            ],
            [
             0.8888888888888888,
             "#fdca26"
            ],
            [
             1,
             "#f0f921"
            ]
           ]
          },
          "colorway": [
           "#636efa",
           "#EF553B",
           "#00cc96",
           "#ab63fa",
           "#FFA15A",
           "#19d3f3",
           "#FF6692",
           "#B6E880",
           "#FF97FF",
           "#FECB52"
          ],
          "font": {
           "color": "#2a3f5f"
          },
          "geo": {
           "bgcolor": "white",
           "lakecolor": "white",
           "landcolor": "white",
           "showlakes": true,
           "showland": true,
           "subunitcolor": "#C8D4E3"
          },
          "hoverlabel": {
           "align": "left"
          },
          "hovermode": "closest",
          "mapbox": {
           "style": "light"
          },
          "paper_bgcolor": "white",
          "plot_bgcolor": "white",
          "polar": {
           "angularaxis": {
            "gridcolor": "#EBF0F8",
            "linecolor": "#EBF0F8",
            "ticks": ""
           },
           "bgcolor": "white",
           "radialaxis": {
            "gridcolor": "#EBF0F8",
            "linecolor": "#EBF0F8",
            "ticks": ""
           }
          },
          "scene": {
           "xaxis": {
            "backgroundcolor": "white",
            "gridcolor": "#DFE8F3",
            "gridwidth": 2,
            "linecolor": "#EBF0F8",
            "showbackground": true,
            "ticks": "",
            "zerolinecolor": "#EBF0F8"
           },
           "yaxis": {
            "backgroundcolor": "white",
            "gridcolor": "#DFE8F3",
            "gridwidth": 2,
            "linecolor": "#EBF0F8",
            "showbackground": true,
            "ticks": "",
            "zerolinecolor": "#EBF0F8"
           },
           "zaxis": {
            "backgroundcolor": "white",
            "gridcolor": "#DFE8F3",
            "gridwidth": 2,
            "linecolor": "#EBF0F8",
            "showbackground": true,
            "ticks": "",
            "zerolinecolor": "#EBF0F8"
           }
          },
          "shapedefaults": {
           "line": {
            "color": "#2a3f5f"
           }
          },
          "ternary": {
           "aaxis": {
            "gridcolor": "#DFE8F3",
            "linecolor": "#A2B1C6",
            "ticks": ""
           },
           "baxis": {
            "gridcolor": "#DFE8F3",
            "linecolor": "#A2B1C6",
            "ticks": ""
           },
           "bgcolor": "white",
           "caxis": {
            "gridcolor": "#DFE8F3",
            "linecolor": "#A2B1C6",
            "ticks": ""
           }
          },
          "title": {
           "x": 0.05
          },
          "xaxis": {
           "automargin": true,
           "gridcolor": "#EBF0F8",
           "linecolor": "#EBF0F8",
           "ticks": "",
           "title": {
            "standoff": 15
           },
           "zerolinecolor": "#EBF0F8",
           "zerolinewidth": 2
          },
          "yaxis": {
           "automargin": true,
           "gridcolor": "#EBF0F8",
           "linecolor": "#EBF0F8",
           "ticks": "",
           "title": {
            "standoff": 15
           },
           "zerolinecolor": "#EBF0F8",
           "zerolinewidth": 2
          }
         }
        },
        "xaxis": {
         "anchor": "y",
         "domain": [
          0,
          1
         ],
         "title": {
          "text": "electbyfuel_total"
         }
        },
        "yaxis": {
         "anchor": "x",
         "domain": [
          0,
          1
         ],
         "title": {
          "text": "co2_combust_mtco2"
         }
        }
       }
      }
     },
     "metadata": {},
     "output_type": "display_data"
    }
   ],
   "source": [
    "DataViz = DataVisualizer(energyData.sort_values('electbyfuel_total'), theme='plotly_white')\n",
    "DataViz.LineChart(xcol='electbyfuel_total', ycol='co2_combust_mtco2')\n",
    "DataViz.show()\n",
    "DataViz.ScatterPlot(xcol='electbyfuel_total', ycol='co2_combust_mtco2')\n",
    "DataViz.show()"
   ]
  }
 ],
 "metadata": {
  "kernelspec": {
   "display_name": ".venv",
   "language": "python",
   "name": "python3"
  },
  "language_info": {
   "codemirror_mode": {
    "name": "ipython",
    "version": 3
   },
   "file_extension": ".py",
   "mimetype": "text/x-python",
   "name": "python",
   "nbconvert_exporter": "python",
   "pygments_lexer": "ipython3",
   "version": "3.13.3"
  }
 },
 "nbformat": 4,
 "nbformat_minor": 5
}

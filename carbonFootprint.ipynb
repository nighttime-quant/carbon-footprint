{
 "cells": [
  {
   "cell_type": "markdown",
   "id": "6c6348ed",
   "metadata": {},
   "source": [
    "# Overview on worldwide carbon emissions and electricity sources"
   ]
  },
  {
   "cell_type": "markdown",
   "id": "6ce60923",
   "metadata": {},
   "source": [
    "#### Analysis on worldwide CO2 emissions, the impact different electricity sources have on the carbon footprint of a country and how they can help smooth sudden energy prices movements."
   ]
  },
  {
   "cell_type": "markdown",
   "id": "27c00346",
   "metadata": {},
   "source": [
    "### 1.0 Purpose of this analysis\n",
    "This analysis can be divided into two parts.\n",
    "In the first part, the goal is to assess the status of ___worldwide CO2 emissions___ as of 2023, as well as the impact of ___various electricity production sources___ on a country's carbon footprint and how these trends evolved over time. Particular focus has been dedicated to CO2 emissions from combustion processes (in mln tons) rather than countries' total emissions, as the former are more relevant to electricity production processes.    \n",
    "In the last sections, the information from the first part is utilized to assess how the energy mix of a country can help smooth the impact of sudden movements in energy's market prices."
   ]
  },
  {
   "cell_type": "markdown",
   "id": "85d672b5",
   "metadata": {},
   "source": [
    "### 2.0 Overview of the data  \n",
    "The dataset presented in this analysis has been sourced from the Energy Institute website, and includes information on carbon emissions and electricity production from various sources, mainly fossil fuels, nuclear energy, renewables and other sources.    \n",
    "The data is a panel data, providing insight on countries from all over the globe and across various years. It has been however chosen to focus on the year 2023, the latest year available, to provide a quick overview of the most recent information on the matter.   \n",
    "An overview of the most relevant attributes is provided below, after selecting the features to be included in the analysis.\n"
   ]
  },
  {
   "cell_type": "code",
   "execution_count": 2,
   "id": "0800096c",
   "metadata": {},
   "outputs": [
    {
     "name": "stdout",
     "output_type": "stream",
     "text": [
      "The autoreload extension is already loaded. To reload it, use:\n",
      "  %reload_ext autoreload\n"
     ]
    }
   ],
   "source": [
    "%load_ext autoreload\n",
    "%autoreload 2\n",
    "import pandas as pd\n",
    "import numpy as np\n",
    "import matplotlib.pyplot as plt\n",
    "import requests\n",
    "import os\n",
    "import warnings\n",
    "import seaborn as sns\n",
    "import polars\n",
    "from scipy.stats import pearsonr\n",
    "from scipy.stats import ks_2samp\n",
    "from sklearn.preprocessing import PowerTransformer\n",
    "from utils import DownloadSave\n",
    "\n",
    "warnings.filterwarnings('ignore')"
   ]
  },
  {
   "cell_type": "code",
   "execution_count": 3,
   "id": "645157b6",
   "metadata": {},
   "outputs": [
    {
     "data": {
      "text/html": [
       "<div>\n",
       "<style scoped>\n",
       "    .dataframe tbody tr th:only-of-type {\n",
       "        vertical-align: middle;\n",
       "    }\n",
       "\n",
       "    .dataframe tbody tr th {\n",
       "        vertical-align: top;\n",
       "    }\n",
       "\n",
       "    .dataframe thead th {\n",
       "        text-align: right;\n",
       "    }\n",
       "</style>\n",
       "<table border=\"1\" class=\"dataframe\">\n",
       "  <thead>\n",
       "    <tr style=\"text-align: right;\">\n",
       "      <th></th>\n",
       "      <th>Code</th>\n",
       "      <th>Variable</th>\n",
       "      <th>Units</th>\n",
       "    </tr>\n",
       "  </thead>\n",
       "  <tbody>\n",
       "    <tr>\n",
       "      <th>0</th>\n",
       "      <td>biodiesel_cons_kboed</td>\n",
       "      <td>biodiesel consumption</td>\n",
       "      <td>thousand barrels of oil equivalent per day</td>\n",
       "    </tr>\n",
       "    <tr>\n",
       "      <th>1</th>\n",
       "      <td>biodiesel_cons_pj</td>\n",
       "      <td>biodiesel consumption</td>\n",
       "      <td>Petajoules</td>\n",
       "    </tr>\n",
       "    <tr>\n",
       "      <th>2</th>\n",
       "      <td>biodiesel_prod_kboed</td>\n",
       "      <td>biodiesel production</td>\n",
       "      <td>thousand barrels of oil equivalent per day</td>\n",
       "    </tr>\n",
       "    <tr>\n",
       "      <th>3</th>\n",
       "      <td>biodiesel_prod_pj</td>\n",
       "      <td>biodiesel production</td>\n",
       "      <td>Petajoules</td>\n",
       "    </tr>\n",
       "    <tr>\n",
       "      <th>4</th>\n",
       "      <td>biofuels_cons_ej</td>\n",
       "      <td>biofuels consumption</td>\n",
       "      <td>Exajoules</td>\n",
       "    </tr>\n",
       "  </tbody>\n",
       "</table>\n",
       "</div>"
      ],
      "text/plain": [
       "                   Code                Variable  \\\n",
       "0  biodiesel_cons_kboed  biodiesel consumption    \n",
       "1     biodiesel_cons_pj  biodiesel consumption    \n",
       "2  biodiesel_prod_kboed    biodiesel production   \n",
       "3     biodiesel_prod_pj    biodiesel production   \n",
       "4      biofuels_cons_ej    biofuels consumption   \n",
       "\n",
       "                                        Units  \n",
       "0  thousand barrels of oil equivalent per day  \n",
       "1                                  Petajoules  \n",
       "2  thousand barrels of oil equivalent per day  \n",
       "3                                  Petajoules  \n",
       "4                                   Exajoules  "
      ]
     },
     "execution_count": 3,
     "metadata": {},
     "output_type": "execute_result"
    }
   ],
   "source": [
    "# Download and save data\n",
    "panelUrl = \"https://www.energyinst.org/__data/assets/excel_doc/0007/1055752/merged_panel.xlsx\"\n",
    "panelFile = \"C:/Users/Acer/Documents/carbon-footprint/Data/Panel Data.xlsx\"\n",
    "\n",
    "glossaryUrl = \"https://www.energyinst.org/__data/assets/excel_doc/0020/1540505/Consolidated-Dataset-Narrow-Format-Glossary.xlsx\"\n",
    "glossaryFile = \"C:/Users/Acer/Documents/carbon-footprint/Data/Glossary.xlsx\"\n",
    "\n",
    "panelDataDowloader = DownloadSave(panelUrl, panelFile)\n",
    "panelData = panelDataDowloader.downloadSave()\n",
    "\n",
    "glossaryDownloader = DownloadSave(glossaryUrl, glossaryFile)\n",
    "glossaryData = glossaryDownloader.downloadSave()\n",
    "\n",
    "panelData.head()\n",
    "glossaryData.head()"
   ]
  },
  {
   "cell_type": "markdown",
   "id": "b76a3fe7",
   "metadata": {},
   "source": [
    "### 3.0 Data Cleaning and Feature Engineering"
   ]
  },
  {
   "cell_type": "markdown",
   "id": "5acfcb5f",
   "metadata": {},
   "source": [
    "#### 3.1 Data Cleaning"
   ]
  },
  {
   "cell_type": "markdown",
   "id": "3cc7fed5",
   "metadata": {},
   "source": [
    "Most of the data cleaning process involves cleaning the 'Country' column from values that represented aggregate information for other countries and, thus, provided no additional information for our purposes. Therefore, these rows have been removed from the dataset.  \n",
    "Finally, a low number of missing values has been observed regarding carbon emissions and primary energy consumption columns. All missing values, including those in electricity production features, are preserved here, as possibly indicators of a country's specific energy policy or transition towards greener sources. In other words, missing information on coal electricity production for a specific country does not necessarily imply a defect in the data, but can be interpreted as the country transitioning towards other energy sources."
   ]
  },
  {
   "cell_type": "code",
   "execution_count": 7,
   "id": "412a5eff",
   "metadata": {},
   "outputs": [
    {
     "name": "stdout",
     "output_type": "stream",
     "text": [
      "                     Code                                           Variable  \\\n",
      "0       co2_combust_mtco2                      CO2 emissions from combustion   \n",
      "1          co2_combust_pc                      CO2 emissions from combustion   \n",
      "2      co2_combust_per_ej                                   Carbon intensity   \n",
      "3               co2_mtco2                               Total CO2 emissions    \n",
      "4               elect_twh                                        Electricity   \n",
      "5        electbyfuel_coal                   Electricity generation from coal   \n",
      "6         electbyfuel_gas                    Electricity generation from gas   \n",
      "7       electbyfuel_hydro                  Electricity generation from hydro   \n",
      "8     electbyfuel_nuclear                Electricity generation from nuclear   \n",
      "9         electbyfuel_oil                    Electricity generation from oil   \n",
      "10      electbyfuel_other                  Electricity generation from other   \n",
      "11  electbyfuel_ren_power             Electricity generation from renewables   \n",
      "12      electbyfuel_total                       Total electricity generation   \n",
      "13     primary_eintensity  Energy intensity (Primary energy consumption/GDP)   \n",
      "14             primary_ej                         Primary energy consumption   \n",
      "15          primary_ej_pc              Primary energy consumption per capita   \n",
      "16                Country        Name of each country, for 107 total nations   \n",
      "17                 Region            Region to which each country belongs to   \n",
      "18                   OPEC               1 if is an OPEC country, 0 otherwise   \n",
      "19                     EU                 1 if is an EU country, 0 otherwise   \n",
      "20                   OECD               1 if is an OECD country, 0 otherwise   \n",
      "21                    CIS                1 if is a CIS* country, 0 otherwise   \n",
      "22                Country        Name of each country, for 107 total nations   \n",
      "23                 Region            Region to which each country belongs to   \n",
      "24                   OPEC               1 if is an OPEC country, 0 otherwise   \n",
      "25                     EU                 1 if is an EU country, 0 otherwise   \n",
      "26                   OECD               1 if is an OECD country, 0 otherwise   \n",
      "27                    CIS                1 if is a CIS* country, 0 otherwise   \n",
      "\n",
      "                        Units  \n",
      "0      Million tonnes of CO2   \n",
      "1   CO2 combustion per capita  \n",
      "2           CO2 per exajoules  \n",
      "3      Million tonnes of CO2   \n",
      "4               Terawatt-hour  \n",
      "5               Terawatt-hour  \n",
      "6               Terawatt-hour  \n",
      "7               Terawatt-hour  \n",
      "8               Terawatt-hour  \n",
      "9               Terawatt-hour  \n",
      "10              Terawatt-hour  \n",
      "11              Terawatt-hour  \n",
      "12              Terawatt-hour  \n",
      "13                        NaN  \n",
      "14                  Exajoules  \n",
      "15       Exajoules per capita  \n",
      "16                          -  \n",
      "17                          -  \n",
      "18                          -  \n",
      "19                          -  \n",
      "20                          -  \n",
      "21                          -  \n",
      "22                          -  \n",
      "23                          -  \n",
      "24                          -  \n",
      "25                          -  \n",
      "26                          -  \n",
      "27                          -  \n",
      "*Note - CIS: Commonwealth of Independent States\n"
     ]
    }
   ],
   "source": [
    "# keep only relevant columns\n",
    "selectedColumns = ['Country', 'Year', 'Region', 'OPEC', 'EU', 'OECD', 'CIS',\n",
    "                   'co2_combust_mtco2', 'co2_combust_pc', 'co2_combust_per_ej', 'co2_mtco2', 'elect_twh']\n",
    "electByFuel = panelData.filter(like = \"electbyfuel\")\n",
    "primaryEnergyCons = panelData.filter(like = \"primary_\")\n",
    "panelDataFiltered = pd.concat([panelData[selectedColumns], electByFuel, primaryEnergyCons], axis = 1)\n",
    "\n",
    "glossaryData = glossaryData[glossaryData['Code'].isin(panelDataFiltered.columns.tolist())]\n",
    "newRows = [\n",
    "    {'Code':'Country', 'Variable':'Name of each country, for 107 total nations', 'Units':'-'},\n",
    "    {'Code':'Region', 'Variable':'Region to which each country belongs to', 'Units':'-'},\n",
    "    {'Code':'OPEC', 'Variable':'1 if is an OPEC country, 0 otherwise', 'Units':'-'},\n",
    "    {'Code':'EU', 'Variable':'1 if is an EU country, 0 otherwise', 'Units':'-'},\n",
    "    {'Code':'OECD', 'Variable':'1 if is an OECD country, 0 otherwise', 'Units':'-'},\n",
    "    {'Code':'CIS', 'Variable':'1 if is a CIS* country, 0 otherwise', 'Units':'-'}\n",
    "]\n",
    "newRows = pd.DataFrame(newRows)\n",
    "glossaryData = pd.concat([glossaryData, newRows], ignore_index = True)\n",
    "# print the list of features used in the analysis\n",
    "glossaryData.style.set_table_attributes('style=\"width:100%; display:block; overflow:auto;\"').set_table_styles([\n",
    "    {'selector': 'thead th', 'props': [('text-align', 'center')]},  # Center align headers\n",
    "    {'selector': 'tbody td', 'props': [('text-align', 'center')]},   # Center align data\n",
    "])\n",
    "\n",
    "print(glossaryData)\n",
    "print(\"*Note - CIS: Commonwealth of Independent States\")"
   ]
  },
  {
   "cell_type": "code",
   "execution_count": 10,
   "id": "c9c44f27",
   "metadata": {},
   "outputs": [
    {
     "name": "stdout",
     "output_type": "stream",
     "text": [
      "co2_combust_mtco2        6.701821\n",
      "elect_twh                6.590418\n",
      "co2_mtco2                6.298515\n",
      "primary_ej               6.136746\n",
      "electbyfuel_coal         4.996785\n",
      "electbyfuel_oil          4.698540\n",
      "electbyfuel_gas          4.642247\n",
      "electbyfuel_ren_power    4.267929\n",
      "electbyfuel_total        4.193242\n",
      "electbyfuel_hydro        3.943784\n",
      "CIS                      3.914198\n",
      "electbyfuel_other        3.275147\n",
      "co2_combust_pc           3.251153\n",
      "electbyfuel_nuclear      2.701736\n",
      "primary_eintensity       2.690109\n",
      "primary_ej_pc            2.354356\n",
      "OPEC                     2.350201\n",
      "EU                       1.215595\n",
      "OECD                     0.657687\n",
      "co2_combust_per_ej      -0.531039\n",
      "dtype: float64\n"
     ]
    }
   ],
   "source": [
    "panelDataFiltered = panelDataFiltered[~panelDataFiltered['Country'].str.contains('^Total', na = False)]\n",
    "panelDataFiltered = panelDataFiltered[~panelDataFiltered['Country'].str.contains('^Other', na = False)]\n",
    "panelDataFiltered = panelDataFiltered[panelDataFiltered['Country'] != 'Rest of World']\n",
    "\n",
    "# Extract data as of 2023\n",
    "energyData = panelDataFiltered.copy()\n",
    "energyData = energyData[energyData['Year'] == 2023]\n",
    "\n",
    "# Skewness of data\n",
    "numCols = energyData.select_dtypes(include = ['float64']).columns.tolist()\n",
    "print(energyData[numCols].skew().sort_values(ascending = False))"
   ]
  }
 ],
 "metadata": {
  "kernelspec": {
   "display_name": "Python 3",
   "language": "python",
   "name": "python3"
  },
  "language_info": {
   "codemirror_mode": {
    "name": "ipython",
    "version": 3
   },
   "file_extension": ".py",
   "mimetype": "text/x-python",
   "name": "python",
   "nbconvert_exporter": "python",
   "pygments_lexer": "ipython3",
   "version": "3.13.3"
  }
 },
 "nbformat": 4,
 "nbformat_minor": 5
}
